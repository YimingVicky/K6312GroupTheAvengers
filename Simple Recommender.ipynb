{
 "cells": [
  {
   "cell_type": "code",
   "execution_count": null,
   "metadata": {},
   "outputs": [],
   "source": [
    "# Simple Recommender"
   ]
  },
  {
   "cell_type": "code",
   "execution_count": null,
   "metadata": {},
   "outputs": [],
   "source": [
    "# sorting based on IMDb weighted average formula"
   ]
  },
  {
   "cell_type": "code",
   "execution_count": null,
   "metadata": {},
   "outputs": [],
   "source": [
    "# same for everyone for every movie"
   ]
  },
  {
   "cell_type": "code",
   "execution_count": null,
   "metadata": {},
   "outputs": [],
   "source": [
    "# Data source used for this model: IMDb movies dataset"
   ]
  },
  {
   "cell_type": "code",
   "execution_count": 83,
   "metadata": {},
   "outputs": [
    {
     "name": "stderr",
     "output_type": "stream",
     "text": [
      "C:\\Users\\ipone\\Anaconda3\\lib\\site-packages\\IPython\\core\\interactiveshell.py:3326: DtypeWarning: Columns (3) have mixed types.Specify dtype option on import or set low_memory=False.\n",
      "  exec(code_obj, self.user_global_ns, self.user_ns)\n"
     ]
    }
   ],
   "source": [
    "import pandas as pd\n",
    "import numpy as np\n",
    "\n",
    "# import dataset - cleaned in the data cleaning file\n",
    "movies = pd.read_csv('imdb movies_cleaned.csv')"
   ]
  },
  {
   "cell_type": "code",
   "execution_count": 66,
   "metadata": {},
   "outputs": [
    {
     "name": "stdout",
     "output_type": "stream",
     "text": [
      "(85855, 16)\n"
     ]
    }
   ],
   "source": [
    "# check shape and data types of the data\n",
    "print(movies.shape)"
   ]
  },
  {
   "cell_type": "code",
   "execution_count": 4,
   "metadata": {},
   "outputs": [
    {
     "name": "stdout",
     "output_type": "stream",
     "text": [
      "imdb_title_id          object\n",
      "title                  object\n",
      "original_title         object\n",
      "year                   object\n",
      "date_published         object\n",
      "genre                  object\n",
      "duration                int64\n",
      "country                object\n",
      "language               object\n",
      "director               object\n",
      "writer                 object\n",
      "production_company     object\n",
      "actors                 object\n",
      "description            object\n",
      "avg_vote              float64\n",
      "votes                   int64\n",
      "dtype: object\n"
     ]
    }
   ],
   "source": [
    "print(movies.dtypes)"
   ]
  },
  {
   "cell_type": "code",
   "execution_count": 5,
   "metadata": {},
   "outputs": [
    {
     "name": "stdout",
     "output_type": "stream",
     "text": [
      "imdb_title_id         0\n",
      "title                 0\n",
      "original_title        0\n",
      "year                  0\n",
      "date_published        0\n",
      "genre                 0\n",
      "duration              0\n",
      "country               0\n",
      "language              0\n",
      "director              0\n",
      "writer                0\n",
      "production_company    0\n",
      "actors                0\n",
      "description           0\n",
      "avg_vote              0\n",
      "votes                 0\n",
      "dtype: int64\n"
     ]
    }
   ],
   "source": [
    "print(movies.isnull().sum())   # check for missing values"
   ]
  },
  {
   "cell_type": "code",
   "execution_count": null,
   "metadata": {},
   "outputs": [],
   "source": [
    "# calculate IMDB's weighted rating (score) for each movie\n",
    "# v is the number of votes for the movie;\n",
    "# m is the minimum votes required to be listed in the chart;\n",
    "# R is the average rating of the movie; And\n",
    "# C is the mean vote across the whole report"
   ]
  },
  {
   "cell_type": "code",
   "execution_count": 84,
   "metadata": {},
   "outputs": [
    {
     "data": {
      "text/plain": [
       "5.898655873274613"
      ]
     },
     "execution_count": 84,
     "metadata": {},
     "output_type": "execute_result"
    }
   ],
   "source": [
    "# C is the mean vote across the whole report\n",
    "C= movies['avg_vote'].mean()   \n",
    "C"
   ]
  },
  {
   "cell_type": "code",
   "execution_count": 89,
   "metadata": {},
   "outputs": [
    {
     "data": {
      "text/plain": [
       "9819.600000000006"
      ]
     },
     "execution_count": 89,
     "metadata": {},
     "output_type": "execute_result"
    }
   ],
   "source": [
    "# use 90th percentile as our cutoff\n",
    "# for a movie to feature in the charts, it must have more votes than at least 90% of the movies in the list.\n",
    "m= movies['votes'].quantile(0.9)\n",
    "m"
   ]
  },
  {
   "cell_type": "code",
   "execution_count": 90,
   "metadata": {},
   "outputs": [
    {
     "data": {
      "text/plain": [
       "(8586, 16)"
      ]
     },
     "execution_count": 90,
     "metadata": {},
     "output_type": "execute_result"
    }
   ],
   "source": [
    "# filter the movies that qualify for the chart\n",
    "filtered_movies = movies.copy().loc[movies['votes'] >= m]\n",
    "filtered_movies.shape"
   ]
  },
  {
   "cell_type": "code",
   "execution_count": null,
   "metadata": {},
   "outputs": [],
   "source": [
    "# We see that 8586 movies are qualified to be in the list"
   ]
  },
  {
   "cell_type": "code",
   "execution_count": 91,
   "metadata": {},
   "outputs": [],
   "source": [
    "def IMDB_weighted_rating(df, m=m, C=C):\n",
    "    v = df['votes']\n",
    "    R = df['avg_vote']\n",
    "    # Calculation based on the IMDB formula\n",
    "    return (v/(v+m) * R) + (m/(m+v) * C)"
   ]
  },
  {
   "cell_type": "code",
   "execution_count": 92,
   "metadata": {},
   "outputs": [],
   "source": [
    "# Define a new feature 'score' and calculate its value with `IMDB_weighted_rating`\n",
    "filtered_movies['score'] = filtered_movies.apply(IMDB_weighted_rating, axis=1)"
   ]
  },
  {
   "cell_type": "code",
   "execution_count": 93,
   "metadata": {},
   "outputs": [
    {
     "data": {
      "text/html": [
       "<div>\n",
       "<style scoped>\n",
       "    .dataframe tbody tr th:only-of-type {\n",
       "        vertical-align: middle;\n",
       "    }\n",
       "\n",
       "    .dataframe tbody tr th {\n",
       "        vertical-align: top;\n",
       "    }\n",
       "\n",
       "    .dataframe thead th {\n",
       "        text-align: right;\n",
       "    }\n",
       "</style>\n",
       "<table border=\"1\" class=\"dataframe\">\n",
       "  <thead>\n",
       "    <tr style=\"text-align: right;\">\n",
       "      <th></th>\n",
       "      <th>original_title</th>\n",
       "      <th>year</th>\n",
       "      <th>country</th>\n",
       "      <th>genre</th>\n",
       "      <th>votes</th>\n",
       "      <th>avg_vote</th>\n",
       "      <th>score</th>\n",
       "    </tr>\n",
       "  </thead>\n",
       "  <tbody>\n",
       "    <tr>\n",
       "      <th>28453</th>\n",
       "      <td>The Shawshank Redemption</td>\n",
       "      <td>1994</td>\n",
       "      <td>USA</td>\n",
       "      <td>Drama</td>\n",
       "      <td>2278845</td>\n",
       "      <td>9.3</td>\n",
       "      <td>9.285406</td>\n",
       "    </tr>\n",
       "    <tr>\n",
       "      <th>15528</th>\n",
       "      <td>The Godfather</td>\n",
       "      <td>1972</td>\n",
       "      <td>USA</td>\n",
       "      <td>Crime, Drama</td>\n",
       "      <td>1572674</td>\n",
       "      <td>9.2</td>\n",
       "      <td>9.179515</td>\n",
       "    </tr>\n",
       "    <tr>\n",
       "      <th>48078</th>\n",
       "      <td>The Dark Knight</td>\n",
       "      <td>2008</td>\n",
       "      <td>USA, UK</td>\n",
       "      <td>Action, Crime, Drama</td>\n",
       "      <td>2241615</td>\n",
       "      <td>9.0</td>\n",
       "      <td>8.986474</td>\n",
       "    </tr>\n",
       "    <tr>\n",
       "      <th>16556</th>\n",
       "      <td>The Godfather: Part II</td>\n",
       "      <td>1974</td>\n",
       "      <td>USA</td>\n",
       "      <td>Crime, Drama</td>\n",
       "      <td>1098714</td>\n",
       "      <td>9.0</td>\n",
       "      <td>8.972528</td>\n",
       "    </tr>\n",
       "    <tr>\n",
       "      <th>28381</th>\n",
       "      <td>Pulp Fiction</td>\n",
       "      <td>1994</td>\n",
       "      <td>USA</td>\n",
       "      <td>Crime, Drama</td>\n",
       "      <td>1780147</td>\n",
       "      <td>8.9</td>\n",
       "      <td>8.883535</td>\n",
       "    </tr>\n",
       "    <tr>\n",
       "      <th>34127</th>\n",
       "      <td>The Lord of the Rings: The Return of the King</td>\n",
       "      <td>2003</td>\n",
       "      <td>New Zealand, USA</td>\n",
       "      <td>Action, Adventure, Drama</td>\n",
       "      <td>1604280</td>\n",
       "      <td>8.9</td>\n",
       "      <td>8.881741</td>\n",
       "    </tr>\n",
       "    <tr>\n",
       "      <th>27629</th>\n",
       "      <td>Schindler's List</td>\n",
       "      <td>1993</td>\n",
       "      <td>USA</td>\n",
       "      <td>Biography, Drama, History</td>\n",
       "      <td>1183248</td>\n",
       "      <td>8.9</td>\n",
       "      <td>8.875297</td>\n",
       "    </tr>\n",
       "    <tr>\n",
       "      <th>8973</th>\n",
       "      <td>12 Angry Men</td>\n",
       "      <td>1957</td>\n",
       "      <td>USA</td>\n",
       "      <td>Crime, Drama</td>\n",
       "      <td>668473</td>\n",
       "      <td>8.9</td>\n",
       "      <td>8.856550</td>\n",
       "    </tr>\n",
       "    <tr>\n",
       "      <th>57475</th>\n",
       "      <td>Inception</td>\n",
       "      <td>2010</td>\n",
       "      <td>USA, UK</td>\n",
       "      <td>Action, Adventure, Sci-Fi</td>\n",
       "      <td>2002816</td>\n",
       "      <td>8.8</td>\n",
       "      <td>8.785844</td>\n",
       "    </tr>\n",
       "    <tr>\n",
       "      <th>32487</th>\n",
       "      <td>Fight Club</td>\n",
       "      <td>1999</td>\n",
       "      <td>USA, Germany</td>\n",
       "      <td>Drama</td>\n",
       "      <td>1807440</td>\n",
       "      <td>8.8</td>\n",
       "      <td>8.784323</td>\n",
       "    </tr>\n",
       "  </tbody>\n",
       "</table>\n",
       "</div>"
      ],
      "text/plain": [
       "                                      original_title  year           country  \\\n",
       "28453                       The Shawshank Redemption  1994               USA   \n",
       "15528                                  The Godfather  1972               USA   \n",
       "48078                                The Dark Knight  2008           USA, UK   \n",
       "16556                         The Godfather: Part II  1974               USA   \n",
       "28381                                   Pulp Fiction  1994               USA   \n",
       "34127  The Lord of the Rings: The Return of the King  2003  New Zealand, USA   \n",
       "27629                               Schindler's List  1993               USA   \n",
       "8973                                    12 Angry Men  1957               USA   \n",
       "57475                                      Inception  2010           USA, UK   \n",
       "32487                                     Fight Club  1999      USA, Germany   \n",
       "\n",
       "                           genre    votes  avg_vote     score  \n",
       "28453                      Drama  2278845       9.3  9.285406  \n",
       "15528               Crime, Drama  1572674       9.2  9.179515  \n",
       "48078       Action, Crime, Drama  2241615       9.0  8.986474  \n",
       "16556               Crime, Drama  1098714       9.0  8.972528  \n",
       "28381               Crime, Drama  1780147       8.9  8.883535  \n",
       "34127   Action, Adventure, Drama  1604280       8.9  8.881741  \n",
       "27629  Biography, Drama, History  1183248       8.9  8.875297  \n",
       "8973                Crime, Drama   668473       8.9  8.856550  \n",
       "57475  Action, Adventure, Sci-Fi  2002816       8.8  8.785844  \n",
       "32487                      Drama  1807440       8.8  8.784323  "
      ]
     },
     "execution_count": 93,
     "metadata": {},
     "output_type": "execute_result"
    }
   ],
   "source": [
    "# Sort movies based on score calculated above\n",
    "filtered_movies = filtered_movies.sort_values('score', ascending=False)\n",
    "\n",
    "# Print the top 10 movies\n",
    "filtered_movies[['original_title','year','country','genre','votes', 'avg_vote', 'score']].head(10)"
   ]
  },
  {
   "cell_type": "code",
   "execution_count": null,
   "metadata": {},
   "outputs": [],
   "source": [
    "# Could further breakdown by Genre if needed...\n",
    "# or try out diffent percentile level"
   ]
  },
  {
   "cell_type": "code",
   "execution_count": 94,
   "metadata": {},
   "outputs": [],
   "source": [
    "# split the genre\n",
    "movies['genre'] = movies['genre'].str.split(',')\n",
    "movies = movies.explode('genre').reset_index()"
   ]
  },
  {
   "cell_type": "code",
   "execution_count": 96,
   "metadata": {},
   "outputs": [],
   "source": [
    "def build_chart(genre, percentile=0.9):\n",
    "    df = movies[movies['genre'] == genre]\n",
    "    vote_counts = df[df['votes'].notnull()]['votes'].astype('int')\n",
    "    vote_averages = df[df['avg_vote'].notnull()]['avg_vote'].astype('int')\n",
    "    C = vote_averages.mean()\n",
    "    m = vote_counts.quantile(percentile)\n",
    "    \n",
    "    qualified = df[(df['votes'] >= m) & (df['votes'].notnull()) & (df['votes'].notnull())][['original_title','year','country','genre','votes', 'avg_vote']]\n",
    "    qualified['votes'] = qualified['votes'].astype('int')\n",
    "    qualified['avg_vote'] = qualified['avg_vote'].astype('int')\n",
    "    \n",
    "    qualified['score'] = qualified.apply(lambda x: (x['votes']/(x['votes']+m) * x['avg_vote']) + (m/(m+x['votes']) * C), axis=1)\n",
    "    qualified = qualified.sort_values('score', ascending=False).head(250)\n",
    "    \n",
    "    return qualified"
   ]
  },
  {
   "cell_type": "code",
   "execution_count": 102,
   "metadata": {},
   "outputs": [
    {
     "data": {
      "text/html": [
       "<div>\n",
       "<style scoped>\n",
       "    .dataframe tbody tr th:only-of-type {\n",
       "        vertical-align: middle;\n",
       "    }\n",
       "\n",
       "    .dataframe tbody tr th {\n",
       "        vertical-align: top;\n",
       "    }\n",
       "\n",
       "    .dataframe thead th {\n",
       "        text-align: right;\n",
       "    }\n",
       "</style>\n",
       "<table border=\"1\" class=\"dataframe\">\n",
       "  <thead>\n",
       "    <tr style=\"text-align: right;\">\n",
       "      <th></th>\n",
       "      <th>original_title</th>\n",
       "      <th>year</th>\n",
       "      <th>country</th>\n",
       "      <th>genre</th>\n",
       "      <th>votes</th>\n",
       "      <th>avg_vote</th>\n",
       "      <th>score</th>\n",
       "    </tr>\n",
       "  </thead>\n",
       "  <tbody>\n",
       "    <tr>\n",
       "      <th>105027</th>\n",
       "      <td>Interstellar</td>\n",
       "      <td>2014</td>\n",
       "      <td>USA, UK, Canada</td>\n",
       "      <td>Adventure</td>\n",
       "      <td>1449256</td>\n",
       "      <td>8</td>\n",
       "      <td>7.970355</td>\n",
       "    </tr>\n",
       "    <tr>\n",
       "      <th>90939</th>\n",
       "      <td>Inglourious Basterds</td>\n",
       "      <td>2009</td>\n",
       "      <td>Germany, USA</td>\n",
       "      <td>Adventure</td>\n",
       "      <td>1229958</td>\n",
       "      <td>8</td>\n",
       "      <td>7.965140</td>\n",
       "    </tr>\n",
       "    <tr>\n",
       "      <th>46039</th>\n",
       "      <td>Back to the Future</td>\n",
       "      <td>1985</td>\n",
       "      <td>USA</td>\n",
       "      <td>Adventure</td>\n",
       "      <td>1027330</td>\n",
       "      <td>8</td>\n",
       "      <td>7.958376</td>\n",
       "    </tr>\n",
       "    <tr>\n",
       "      <th>115106</th>\n",
       "      <td>Harry Potter and the Deathly Hallows: Part 2</td>\n",
       "      <td>2011</td>\n",
       "      <td>UK, USA</td>\n",
       "      <td>Adventure</td>\n",
       "      <td>743339</td>\n",
       "      <td>8</td>\n",
       "      <td>7.942825</td>\n",
       "    </tr>\n",
       "    <tr>\n",
       "      <th>149047</th>\n",
       "      <td>The Martian</td>\n",
       "      <td>2015</td>\n",
       "      <td>UK, USA, Hungary, Jordan</td>\n",
       "      <td>Adventure</td>\n",
       "      <td>740757</td>\n",
       "      <td>8</td>\n",
       "      <td>7.942630</td>\n",
       "    </tr>\n",
       "    <tr>\n",
       "      <th>136398</th>\n",
       "      <td>The Grand Budapest Hotel</td>\n",
       "      <td>2014</td>\n",
       "      <td>Germany, USA</td>\n",
       "      <td>Adventure</td>\n",
       "      <td>687669</td>\n",
       "      <td>8</td>\n",
       "      <td>7.938307</td>\n",
       "    </tr>\n",
       "    <tr>\n",
       "      <th>28826</th>\n",
       "      <td>2001: A Space Odyssey</td>\n",
       "      <td>1968</td>\n",
       "      <td>UK, USA</td>\n",
       "      <td>Adventure</td>\n",
       "      <td>587866</td>\n",
       "      <td>8</td>\n",
       "      <td>7.928125</td>\n",
       "    </tr>\n",
       "    <tr>\n",
       "      <th>103382</th>\n",
       "      <td>Into the Wild</td>\n",
       "      <td>2007</td>\n",
       "      <td>USA</td>\n",
       "      <td>Adventure</td>\n",
       "      <td>560692</td>\n",
       "      <td>8</td>\n",
       "      <td>7.924743</td>\n",
       "    </tr>\n",
       "    <tr>\n",
       "      <th>36290</th>\n",
       "      <td>Jaws</td>\n",
       "      <td>1975</td>\n",
       "      <td>USA</td>\n",
       "      <td>Adventure</td>\n",
       "      <td>535807</td>\n",
       "      <td>8</td>\n",
       "      <td>7.921355</td>\n",
       "    </tr>\n",
       "    <tr>\n",
       "      <th>35476</th>\n",
       "      <td>Monty Python and the Holy Grail</td>\n",
       "      <td>1975</td>\n",
       "      <td>UK</td>\n",
       "      <td>Adventure</td>\n",
       "      <td>491629</td>\n",
       "      <td>8</td>\n",
       "      <td>7.914521</td>\n",
       "    </tr>\n",
       "  </tbody>\n",
       "</table>\n",
       "</div>"
      ],
      "text/plain": [
       "                                      original_title  year  \\\n",
       "105027                                  Interstellar  2014   \n",
       "90939                           Inglourious Basterds  2009   \n",
       "46039                             Back to the Future  1985   \n",
       "115106  Harry Potter and the Deathly Hallows: Part 2  2011   \n",
       "149047                                   The Martian  2015   \n",
       "136398                      The Grand Budapest Hotel  2014   \n",
       "28826                          2001: A Space Odyssey  1968   \n",
       "103382                                 Into the Wild  2007   \n",
       "36290                                           Jaws  1975   \n",
       "35476                Monty Python and the Holy Grail  1975   \n",
       "\n",
       "                         country      genre    votes  avg_vote     score  \n",
       "105027           USA, UK, Canada  Adventure  1449256         8  7.970355  \n",
       "90939               Germany, USA  Adventure  1229958         8  7.965140  \n",
       "46039                        USA  Adventure  1027330         8  7.958376  \n",
       "115106                   UK, USA  Adventure   743339         8  7.942825  \n",
       "149047  UK, USA, Hungary, Jordan  Adventure   740757         8  7.942630  \n",
       "136398              Germany, USA  Adventure   687669         8  7.938307  \n",
       "28826                    UK, USA  Adventure   587866         8  7.928125  \n",
       "103382                       USA  Adventure   560692         8  7.924743  \n",
       "36290                        USA  Adventure   535807         8  7.921355  \n",
       "35476                         UK  Adventure   491629         8  7.914521  "
      ]
     },
     "execution_count": 102,
     "metadata": {},
     "output_type": "execute_result"
    }
   ],
   "source": [
    "build_chart('Adventure').head(10)"
   ]
  },
  {
   "cell_type": "code",
   "execution_count": 103,
   "metadata": {},
   "outputs": [
    {
     "data": {
      "text/html": [
       "<div>\n",
       "<style scoped>\n",
       "    .dataframe tbody tr th:only-of-type {\n",
       "        vertical-align: middle;\n",
       "    }\n",
       "\n",
       "    .dataframe tbody tr th {\n",
       "        vertical-align: top;\n",
       "    }\n",
       "\n",
       "    .dataframe thead th {\n",
       "        text-align: right;\n",
       "    }\n",
       "</style>\n",
       "<table border=\"1\" class=\"dataframe\">\n",
       "  <thead>\n",
       "    <tr style=\"text-align: right;\">\n",
       "      <th></th>\n",
       "      <th>original_title</th>\n",
       "      <th>year</th>\n",
       "      <th>country</th>\n",
       "      <th>genre</th>\n",
       "      <th>votes</th>\n",
       "      <th>avg_vote</th>\n",
       "      <th>score</th>\n",
       "    </tr>\n",
       "  </thead>\n",
       "  <tbody>\n",
       "    <tr>\n",
       "      <th>39796</th>\n",
       "      <td>Alien</td>\n",
       "      <td>1979</td>\n",
       "      <td>UK, USA</td>\n",
       "      <td>Horror</td>\n",
       "      <td>768874</td>\n",
       "      <td>8</td>\n",
       "      <td>7.963386</td>\n",
       "    </tr>\n",
       "    <tr>\n",
       "      <th>23013</th>\n",
       "      <td>Psycho</td>\n",
       "      <td>1960</td>\n",
       "      <td>USA</td>\n",
       "      <td>Horror</td>\n",
       "      <td>586765</td>\n",
       "      <td>8</td>\n",
       "      <td>7.952164</td>\n",
       "    </tr>\n",
       "    <tr>\n",
       "      <th>43655</th>\n",
       "      <td>The Thing</td>\n",
       "      <td>1982</td>\n",
       "      <td>USA</td>\n",
       "      <td>Horror</td>\n",
       "      <td>360147</td>\n",
       "      <td>8</td>\n",
       "      <td>7.922670</td>\n",
       "    </tr>\n",
       "    <tr>\n",
       "      <th>34119</th>\n",
       "      <td>The Exorcist</td>\n",
       "      <td>1973</td>\n",
       "      <td>USA</td>\n",
       "      <td>Horror</td>\n",
       "      <td>354234</td>\n",
       "      <td>8</td>\n",
       "      <td>7.921405</td>\n",
       "    </tr>\n",
       "    <tr>\n",
       "      <th>158046</th>\n",
       "      <td>Get Out</td>\n",
       "      <td>2017</td>\n",
       "      <td>USA, Japan</td>\n",
       "      <td>Horror</td>\n",
       "      <td>472430</td>\n",
       "      <td>7</td>\n",
       "      <td>6.956167</td>\n",
       "    </tr>\n",
       "    <tr>\n",
       "      <th>119761</th>\n",
       "      <td>It</td>\n",
       "      <td>2017</td>\n",
       "      <td>Canada, USA</td>\n",
       "      <td>Horror</td>\n",
       "      <td>442715</td>\n",
       "      <td>7</td>\n",
       "      <td>6.953273</td>\n",
       "    </tr>\n",
       "    <tr>\n",
       "      <th>121027</th>\n",
       "      <td>The Conjuring</td>\n",
       "      <td>2013</td>\n",
       "      <td>USA</td>\n",
       "      <td>Horror</td>\n",
       "      <td>430412</td>\n",
       "      <td>7</td>\n",
       "      <td>6.951960</td>\n",
       "    </tr>\n",
       "    <tr>\n",
       "      <th>157551</th>\n",
       "      <td>Split</td>\n",
       "      <td>2016</td>\n",
       "      <td>USA, Japan</td>\n",
       "      <td>Horror</td>\n",
       "      <td>408269</td>\n",
       "      <td>7</td>\n",
       "      <td>6.949401</td>\n",
       "    </tr>\n",
       "    <tr>\n",
       "      <th>93687</th>\n",
       "      <td>Saw</td>\n",
       "      <td>2004</td>\n",
       "      <td>USA</td>\n",
       "      <td>Horror</td>\n",
       "      <td>371979</td>\n",
       "      <td>7</td>\n",
       "      <td>6.944561</td>\n",
       "    </tr>\n",
       "    <tr>\n",
       "      <th>116646</th>\n",
       "      <td>The Cabin in the Woods</td>\n",
       "      <td>2011</td>\n",
       "      <td>USA</td>\n",
       "      <td>Horror</td>\n",
       "      <td>366795</td>\n",
       "      <td>7</td>\n",
       "      <td>6.943793</td>\n",
       "    </tr>\n",
       "  </tbody>\n",
       "</table>\n",
       "</div>"
      ],
      "text/plain": [
       "                original_title  year      country   genre   votes  avg_vote  \\\n",
       "39796                    Alien  1979      UK, USA  Horror  768874         8   \n",
       "23013                   Psycho  1960          USA  Horror  586765         8   \n",
       "43655                The Thing  1982          USA  Horror  360147         8   \n",
       "34119             The Exorcist  1973          USA  Horror  354234         8   \n",
       "158046                 Get Out  2017   USA, Japan  Horror  472430         7   \n",
       "119761                      It  2017  Canada, USA  Horror  442715         7   \n",
       "121027           The Conjuring  2013          USA  Horror  430412         7   \n",
       "157551                   Split  2016   USA, Japan  Horror  408269         7   \n",
       "93687                      Saw  2004          USA  Horror  371979         7   \n",
       "116646  The Cabin in the Woods  2011          USA  Horror  366795         7   \n",
       "\n",
       "           score  \n",
       "39796   7.963386  \n",
       "23013   7.952164  \n",
       "43655   7.922670  \n",
       "34119   7.921405  \n",
       "158046  6.956167  \n",
       "119761  6.953273  \n",
       "121027  6.951960  \n",
       "157551  6.949401  \n",
       "93687   6.944561  \n",
       "116646  6.943793  "
      ]
     },
     "execution_count": 103,
     "metadata": {},
     "output_type": "execute_result"
    }
   ],
   "source": [
    "build_chart('Horror').head(10)"
   ]
  },
  {
   "cell_type": "code",
   "execution_count": null,
   "metadata": {},
   "outputs": [],
   "source": []
  }
 ],
 "metadata": {
  "kernelspec": {
   "display_name": "Python 3",
   "language": "python",
   "name": "python3"
  },
  "language_info": {
   "codemirror_mode": {
    "name": "ipython",
    "version": 3
   },
   "file_extension": ".py",
   "mimetype": "text/x-python",
   "name": "python",
   "nbconvert_exporter": "python",
   "pygments_lexer": "ipython3",
   "version": "3.7.4"
  }
 },
 "nbformat": 4,
 "nbformat_minor": 2
}
