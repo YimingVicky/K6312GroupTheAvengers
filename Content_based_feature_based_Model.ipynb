{
 "cells": [
  {
   "cell_type": "code",
   "execution_count": null,
   "metadata": {},
   "outputs": [],
   "source": [
    "# change title to original_title\n",
    "# data source updated (~8000 movies)"
   ]
  },
  {
   "cell_type": "code",
   "execution_count": 1,
   "metadata": {
    "_uuid": "c1fdd129c1cbab68ae3e6bf2062575f01f80b87c"
   },
   "outputs": [],
   "source": [
    "import pandas as pd \n",
    "import numpy as np \n",
    "\n",
    "df1=pd.read_csv('movies_matched.csv') # see hybrid model data cleaning"
   ]
  },
  {
   "cell_type": "code",
   "execution_count": 2,
   "metadata": {
    "_uuid": "59a8d0991e3cae9a44a4b351e154fd1000724448"
   },
   "outputs": [],
   "source": [
    "# Parse the stringified features into their corresponding python objects\n",
    "features = ['actors', 'director', 'writer', 'genre']"
   ]
  },
  {
   "cell_type": "code",
   "execution_count": 3,
   "metadata": {
    "_uuid": "86c4e9f4e6ef1e5ff287f58f3a1119fbddbdae09"
   },
   "outputs": [],
   "source": [
    "# Returns the list top 3 elements or entire list; whichever is more.\n",
    "def get_list(x):\n",
    "    if isinstance(x, str):\n",
    "        split_list = x.split(',')\n",
    "        if len(split_list) > 1:\n",
    "            names = [i for i in split_list]\n",
    "            # Check if more than 3 elements exist. If yes, return only first three. If no, return entire list.\n",
    "            if len(names) > 3:\n",
    "                names = names[:3]\n",
    "        elif len(split_list) == 1:\n",
    "            names = [x]\n",
    "    else:\n",
    "        names = []\n",
    "    return names"
   ]
  },
  {
   "cell_type": "code",
   "execution_count": 4,
   "metadata": {
    "_uuid": "dd060c3c1d724de71555218f30cccafd4a8ad6af"
   },
   "outputs": [],
   "source": [
    "features = ['actors', 'director', 'writer', 'genre']\n",
    "# features = ['actors']\n",
    "for feature in features:\n",
    "    df1[feature] = df1[feature].apply(get_list)"
   ]
  },
  {
   "cell_type": "code",
   "execution_count": 5,
   "metadata": {
    "_uuid": "87a96f835470aa3df590b74322c2717ff529d6ae"
   },
   "outputs": [
    {
     "data": {
      "text/html": [
       "<div>\n",
       "<style scoped>\n",
       "    .dataframe tbody tr th:only-of-type {\n",
       "        vertical-align: middle;\n",
       "    }\n",
       "\n",
       "    .dataframe tbody tr th {\n",
       "        vertical-align: top;\n",
       "    }\n",
       "\n",
       "    .dataframe thead th {\n",
       "        text-align: right;\n",
       "    }\n",
       "</style>\n",
       "<table border=\"1\" class=\"dataframe\">\n",
       "  <thead>\n",
       "    <tr style=\"text-align: right;\">\n",
       "      <th></th>\n",
       "      <th>original_title</th>\n",
       "      <th>actors</th>\n",
       "      <th>director</th>\n",
       "      <th>writer</th>\n",
       "      <th>genre</th>\n",
       "    </tr>\n",
       "  </thead>\n",
       "  <tbody>\n",
       "    <tr>\n",
       "      <th>0</th>\n",
       "      <td>The Birth of a Nation</td>\n",
       "      <td>[Henry B. Walthall,  Lillian Gish,  Mae Marsh]</td>\n",
       "      <td>[D.W. Griffith]</td>\n",
       "      <td>[Thomas Dixon Jr.,  Thomas Dixon Jr.]</td>\n",
       "      <td>[Drama,  History,  War]</td>\n",
       "    </tr>\n",
       "    <tr>\n",
       "      <th>1</th>\n",
       "      <td>20,000 Leagues Under the Sea</td>\n",
       "      <td>[Dan Hanlon,  Edna Pendleton,  Curtis Benton]</td>\n",
       "      <td>[Stuart Paton]</td>\n",
       "      <td>[Jules Verne]</td>\n",
       "      <td>[Action,  Adventure,  Sci-Fi]</td>\n",
       "    </tr>\n",
       "    <tr>\n",
       "      <th>2</th>\n",
       "      <td>Intolerance: Love's Struggle Throughout the Ages</td>\n",
       "      <td>[Lillian Gish,  Mae Marsh,  Robert Harron]</td>\n",
       "      <td>[D.W. Griffith]</td>\n",
       "      <td>[D.W. Griffith,  Anita Loos]</td>\n",
       "      <td>[Drama,  History]</td>\n",
       "    </tr>\n",
       "  </tbody>\n",
       "</table>\n",
       "</div>"
      ],
      "text/plain": [
       "                                     original_title  \\\n",
       "0                             The Birth of a Nation   \n",
       "1                      20,000 Leagues Under the Sea   \n",
       "2  Intolerance: Love's Struggle Throughout the Ages   \n",
       "\n",
       "                                           actors         director  \\\n",
       "0  [Henry B. Walthall,  Lillian Gish,  Mae Marsh]  [D.W. Griffith]   \n",
       "1   [Dan Hanlon,  Edna Pendleton,  Curtis Benton]   [Stuart Paton]   \n",
       "2      [Lillian Gish,  Mae Marsh,  Robert Harron]  [D.W. Griffith]   \n",
       "\n",
       "                                  writer                          genre  \n",
       "0  [Thomas Dixon Jr.,  Thomas Dixon Jr.]        [Drama,  History,  War]  \n",
       "1                          [Jules Verne]  [Action,  Adventure,  Sci-Fi]  \n",
       "2           [D.W. Griffith,  Anita Loos]              [Drama,  History]  "
      ]
     },
     "execution_count": 5,
     "metadata": {},
     "output_type": "execute_result"
    }
   ],
   "source": [
    "# Print the new features of the first 3 films\n",
    "df1[['original_title', 'actors', 'director', 'writer', 'genre']].head(3)"
   ]
  },
  {
   "cell_type": "code",
   "execution_count": 6,
   "metadata": {
    "_uuid": "86af764c406a8b6184b37b57cfe499d20ce45f9c"
   },
   "outputs": [],
   "source": [
    "# Function to convert all strings to lower case and strip names of spaces\n",
    "def clean_data(x):\n",
    "    if isinstance(x, list):\n",
    "        return [str.lower(i.replace(\" \", \"\")) for i in x]\n",
    "    else:\n",
    "        #Check if director exists. If not, return empty string\n",
    "        if isinstance(x, str):\n",
    "            return str.lower(x.replace(\" \", \"\"))\n",
    "        else:\n",
    "            return ''"
   ]
  },
  {
   "cell_type": "code",
   "execution_count": 7,
   "metadata": {
    "_uuid": "5728cc017ff6ed1dcd79da05b1dd57a60557e853"
   },
   "outputs": [],
   "source": [
    "# Apply clean_data function to your features.\n",
    "features = ['actors', 'director', 'writer', 'genre']\n",
    "\n",
    "for feature in features:\n",
    "    df1[feature] = df1[feature].apply(clean_data)"
   ]
  },
  {
   "cell_type": "code",
   "execution_count": 8,
   "metadata": {},
   "outputs": [
    {
     "data": {
      "text/html": [
       "<div>\n",
       "<style scoped>\n",
       "    .dataframe tbody tr th:only-of-type {\n",
       "        vertical-align: middle;\n",
       "    }\n",
       "\n",
       "    .dataframe tbody tr th {\n",
       "        vertical-align: top;\n",
       "    }\n",
       "\n",
       "    .dataframe thead th {\n",
       "        text-align: right;\n",
       "    }\n",
       "</style>\n",
       "<table border=\"1\" class=\"dataframe\">\n",
       "  <thead>\n",
       "    <tr style=\"text-align: right;\">\n",
       "      <th></th>\n",
       "      <th>original_title</th>\n",
       "      <th>actors</th>\n",
       "      <th>director</th>\n",
       "      <th>writer</th>\n",
       "      <th>genre</th>\n",
       "    </tr>\n",
       "  </thead>\n",
       "  <tbody>\n",
       "    <tr>\n",
       "      <th>0</th>\n",
       "      <td>The Birth of a Nation</td>\n",
       "      <td>[henryb.walthall, lilliangish, maemarsh]</td>\n",
       "      <td>[d.w.griffith]</td>\n",
       "      <td>[thomasdixonjr., thomasdixonjr.]</td>\n",
       "      <td>[drama, history, war]</td>\n",
       "    </tr>\n",
       "    <tr>\n",
       "      <th>1</th>\n",
       "      <td>20,000 Leagues Under the Sea</td>\n",
       "      <td>[danhanlon, ednapendleton, curtisbenton]</td>\n",
       "      <td>[stuartpaton]</td>\n",
       "      <td>[julesverne]</td>\n",
       "      <td>[action, adventure, sci-fi]</td>\n",
       "    </tr>\n",
       "    <tr>\n",
       "      <th>2</th>\n",
       "      <td>Intolerance: Love's Struggle Throughout the Ages</td>\n",
       "      <td>[lilliangish, maemarsh, robertharron]</td>\n",
       "      <td>[d.w.griffith]</td>\n",
       "      <td>[d.w.griffith, anitaloos]</td>\n",
       "      <td>[drama, history]</td>\n",
       "    </tr>\n",
       "  </tbody>\n",
       "</table>\n",
       "</div>"
      ],
      "text/plain": [
       "                                     original_title  \\\n",
       "0                             The Birth of a Nation   \n",
       "1                      20,000 Leagues Under the Sea   \n",
       "2  Intolerance: Love's Struggle Throughout the Ages   \n",
       "\n",
       "                                     actors        director  \\\n",
       "0  [henryb.walthall, lilliangish, maemarsh]  [d.w.griffith]   \n",
       "1  [danhanlon, ednapendleton, curtisbenton]   [stuartpaton]   \n",
       "2     [lilliangish, maemarsh, robertharron]  [d.w.griffith]   \n",
       "\n",
       "                             writer                        genre  \n",
       "0  [thomasdixonjr., thomasdixonjr.]        [drama, history, war]  \n",
       "1                      [julesverne]  [action, adventure, sci-fi]  \n",
       "2         [d.w.griffith, anitaloos]             [drama, history]  "
      ]
     },
     "execution_count": 8,
     "metadata": {},
     "output_type": "execute_result"
    }
   ],
   "source": [
    "df1[['original_title', 'actors', 'director', 'writer', 'genre']].head(3)"
   ]
  },
  {
   "cell_type": "code",
   "execution_count": 9,
   "metadata": {
    "_uuid": "20aef87703c408926f7617573ed043605207767f"
   },
   "outputs": [],
   "source": [
    "def create_soup(x):\n",
    "    return ' '.join(x['writer']) + ' ' + ' '.join(x['actors']) + ' ' + ' '.join(x['director']) + ' ' + ' '.join(x['genre'])\n",
    "df1['soup'] = df1.apply(create_soup, axis=1)"
   ]
  },
  {
   "cell_type": "code",
   "execution_count": 10,
   "metadata": {},
   "outputs": [
    {
     "data": {
      "text/plain": [
       "0    thomasdixonjr. thomasdixonjr. henryb.walthall ...\n",
       "1    julesverne danhanlon ednapendleton curtisbento...\n",
       "2    d.w.griffith anitaloos lilliangish maemarsh ro...\n",
       "Name: soup, dtype: object"
      ]
     },
     "execution_count": 10,
     "metadata": {},
     "output_type": "execute_result"
    }
   ],
   "source": [
    "df1['soup'].head(3)"
   ]
  },
  {
   "cell_type": "code",
   "execution_count": 11,
   "metadata": {
    "_uuid": "b66a1afc1083917d5ef136ccdcd9b50cca087e2b"
   },
   "outputs": [],
   "source": [
    "# Import CountVectorizer and create the count matrix\n",
    "from sklearn.feature_extraction.text import CountVectorizer\n",
    "\n",
    "count = CountVectorizer(stop_words='english')\n",
    "count_matrix = count.fit_transform(df1['soup'])"
   ]
  },
  {
   "cell_type": "code",
   "execution_count": 12,
   "metadata": {
    "_uuid": "3fa5539ed1680ed5323f8351ac7e4840f629e958"
   },
   "outputs": [],
   "source": [
    "# Compute the Cosine Similarity matrix based on the count_matrix\n",
    "from sklearn.metrics.pairwise import cosine_similarity\n",
    "\n",
    "cosine_sim2 = cosine_similarity(count_matrix, count_matrix)"
   ]
  },
  {
   "cell_type": "code",
   "execution_count": 13,
   "metadata": {
    "_uuid": "b2b8565a04f4bda92d3ba9d15c348af1cd8f8b4d"
   },
   "outputs": [],
   "source": [
    "# Reset index of our main DataFrame and construct reverse mapping as before\n",
    "df1 = df1.reset_index()\n",
    "indices = pd.Series(df1.index, index=df1['original_title'])"
   ]
  },
  {
   "cell_type": "code",
   "execution_count": 16,
   "metadata": {},
   "outputs": [],
   "source": [
    "# Function that takes in movie title as input and outputs most similar movies\n",
    "def get_recommendations(title, cosine_sim=cosine_sim2):\n",
    "    # Get the index of the movie that matches the title\n",
    "    idx = indices[original_title]\n",
    "\n",
    "    # Get the pairwsie similarity scores of all movies with that movie\n",
    "    sim_scores = list(enumerate(cosine_sim[idx]))\n",
    "\n",
    "    # Sort the movies based on the similarity scores\n",
    "    sim_scores = sorted(sim_scores, key=lambda x: x[1], reverse=True)\n",
    "\n",
    "    # Get the scores of the 10 most similar movies\n",
    "    sim_scores = sim_scores[1:11]\n",
    "\n",
    "    # Get the movie indices\n",
    "    movie_indices = [i[0] for i in sim_scores]\n",
    "\n",
    "    # Return the top 10 most similar movies\n",
    "    return df1['original_title'].iloc[movie_indices]"
   ]
  },
  {
   "cell_type": "markdown",
   "metadata": {
    "_uuid": "3c5a3a44893f63aa558030d03e228a365d10d91f"
   },
   "source": [
    "We can now reuse our **get_recommendations()** function by passing in the new **cosine_sim2** matrix as your second argument."
   ]
  },
  {
   "cell_type": "code",
   "execution_count": 18,
   "metadata": {
    "_uuid": "d1e0e02be7a9e71422d3a492834cb4f8434d1464"
   },
   "outputs": [
    {
     "data": {
      "text/plain": [
       "6609                    Interstellar\n",
       "7252           The Dark Knight Rises\n",
       "6438                    The Prestige\n",
       "8497                         Dunkirk\n",
       "6356                 The Dark Knight\n",
       "7170                          Looper\n",
       "1       20,000 Leagues Under the Sea\n",
       "1396                       Moonraker\n",
       "5759                   Batman Begins\n",
       "5834                         Stealth\n",
       "Name: original_title, dtype: object"
      ]
     },
     "execution_count": 18,
     "metadata": {},
     "output_type": "execute_result"
    }
   ],
   "source": [
    "get_recommendations('Inception', cosine_sim2)"
   ]
  },
  {
   "cell_type": "code",
   "execution_count": 20,
   "metadata": {
    "_uuid": "d6c4df85a80d830b2905f69e0e59ebb3461db3b7"
   },
   "outputs": [
    {
     "data": {
      "text/plain": [
       "7196                  Iron Man Three\n",
       "5754                        Iron Man\n",
       "8020         Avengers: Age of Ultron\n",
       "4348                      Spider-Man\n",
       "5403                    Spider-Man 2\n",
       "7931          Spider-Man: Homecoming\n",
       "8303      Captain America: Civil War\n",
       "8418          Avengers: Infinity War\n",
       "6649                    The Avengers\n",
       "1       20,000 Leagues Under the Sea\n",
       "Name: original_title, dtype: object"
      ]
     },
     "execution_count": 20,
     "metadata": {},
     "output_type": "execute_result"
    }
   ],
   "source": [
    "get_recommendations('Iron Man 2', cosine_sim2)"
   ]
  }
 ],
 "metadata": {
  "kernelspec": {
   "display_name": "Python 3",
   "language": "python",
   "name": "python3"
  },
  "language_info": {
   "codemirror_mode": {
    "name": "ipython",
    "version": 3
   },
   "file_extension": ".py",
   "mimetype": "text/x-python",
   "name": "python",
   "nbconvert_exporter": "python",
   "pygments_lexer": "ipython3",
   "version": "3.7.4"
  }
 },
 "nbformat": 4,
 "nbformat_minor": 4
}
