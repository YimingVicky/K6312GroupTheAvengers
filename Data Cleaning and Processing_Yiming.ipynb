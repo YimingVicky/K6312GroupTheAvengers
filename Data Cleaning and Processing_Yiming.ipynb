{
 "cells": [
  {
   "cell_type": "code",
   "execution_count": null,
   "metadata": {},
   "outputs": [],
   "source": [
    "# Two data sources"
   ]
  },
  {
   "cell_type": "code",
   "execution_count": null,
   "metadata": {},
   "outputs": [],
   "source": [
    "# IMDB dataset - movie features,ratings,etc"
   ]
  },
  {
   "cell_type": "code",
   "execution_count": null,
   "metadata": {},
   "outputs": [],
   "source": [
    "# MovieLens - Users ratings on Movies"
   ]
  },
  {
   "cell_type": "code",
   "execution_count": null,
   "metadata": {},
   "outputs": [],
   "source": [
    "# Small: 100,000 ratings and 3,600 tag applications applied to 9,000 movies by 600 users. Last updated 9/2018."
   ]
  },
  {
   "cell_type": "code",
   "execution_count": null,
   "metadata": {},
   "outputs": [],
   "source": []
  },
  {
   "cell_type": "code",
   "execution_count": null,
   "metadata": {},
   "outputs": [],
   "source": [
    "# Data Cleaning for IMDB"
   ]
  },
  {
   "cell_type": "code",
   "execution_count": null,
   "metadata": {},
   "outputs": [],
   "source": [
    "# IMDB MOVIES AND IMDB RATINGS"
   ]
  },
  {
   "cell_type": "code",
   "execution_count": 1,
   "metadata": {},
   "outputs": [
    {
     "name": "stderr",
     "output_type": "stream",
     "text": [
      "C:\\Users\\ipone\\Anaconda3\\lib\\site-packages\\IPython\\core\\interactiveshell.py:3326: DtypeWarning: Columns (3) have mixed types.Specify dtype option on import or set low_memory=False.\n",
      "  exec(code_obj, self.user_global_ns, self.user_ns)\n"
     ]
    }
   ],
   "source": [
    "import pandas as pd\n",
    "import numpy as np\n",
    "\n",
    "# import datasets\n",
    "movies = pd.read_csv('IMDb movies.csv')\n",
    "imdb_ratings = pd.read_csv('IMDb ratings.csv')"
   ]
  },
  {
   "cell_type": "code",
   "execution_count": null,
   "metadata": {},
   "outputs": [],
   "source": [
    "# IMDB MOVIEWS"
   ]
  },
  {
   "cell_type": "code",
   "execution_count": 2,
   "metadata": {},
   "outputs": [
    {
     "data": {
      "text/html": [
       "<div>\n",
       "<style scoped>\n",
       "    .dataframe tbody tr th:only-of-type {\n",
       "        vertical-align: middle;\n",
       "    }\n",
       "\n",
       "    .dataframe tbody tr th {\n",
       "        vertical-align: top;\n",
       "    }\n",
       "\n",
       "    .dataframe thead th {\n",
       "        text-align: right;\n",
       "    }\n",
       "</style>\n",
       "<table border=\"1\" class=\"dataframe\">\n",
       "  <thead>\n",
       "    <tr style=\"text-align: right;\">\n",
       "      <th></th>\n",
       "      <th>imdb_title_id</th>\n",
       "      <th>title</th>\n",
       "      <th>original_title</th>\n",
       "      <th>year</th>\n",
       "      <th>date_published</th>\n",
       "      <th>genre</th>\n",
       "      <th>duration</th>\n",
       "      <th>country</th>\n",
       "      <th>language</th>\n",
       "      <th>director</th>\n",
       "      <th>...</th>\n",
       "      <th>actors</th>\n",
       "      <th>description</th>\n",
       "      <th>avg_vote</th>\n",
       "      <th>votes</th>\n",
       "      <th>budget</th>\n",
       "      <th>usa_gross_income</th>\n",
       "      <th>worlwide_gross_income</th>\n",
       "      <th>metascore</th>\n",
       "      <th>reviews_from_users</th>\n",
       "      <th>reviews_from_critics</th>\n",
       "    </tr>\n",
       "  </thead>\n",
       "  <tbody>\n",
       "    <tr>\n",
       "      <th>0</th>\n",
       "      <td>tt0000009</td>\n",
       "      <td>Miss Jerry</td>\n",
       "      <td>Miss Jerry</td>\n",
       "      <td>1894</td>\n",
       "      <td>1894-10-09</td>\n",
       "      <td>Romance</td>\n",
       "      <td>45</td>\n",
       "      <td>USA</td>\n",
       "      <td>None</td>\n",
       "      <td>Alexander Black</td>\n",
       "      <td>...</td>\n",
       "      <td>Blanche Bayliss, William Courtenay, Chauncey D...</td>\n",
       "      <td>The adventures of a female reporter in the 1890s.</td>\n",
       "      <td>5.9</td>\n",
       "      <td>154</td>\n",
       "      <td>NaN</td>\n",
       "      <td>NaN</td>\n",
       "      <td>NaN</td>\n",
       "      <td>NaN</td>\n",
       "      <td>1.0</td>\n",
       "      <td>2.0</td>\n",
       "    </tr>\n",
       "    <tr>\n",
       "      <th>1</th>\n",
       "      <td>tt0000574</td>\n",
       "      <td>The Story of the Kelly Gang</td>\n",
       "      <td>The Story of the Kelly Gang</td>\n",
       "      <td>1906</td>\n",
       "      <td>1906-12-26</td>\n",
       "      <td>Biography, Crime, Drama</td>\n",
       "      <td>70</td>\n",
       "      <td>Australia</td>\n",
       "      <td>None</td>\n",
       "      <td>Charles Tait</td>\n",
       "      <td>...</td>\n",
       "      <td>Elizabeth Tait, John Tait, Norman Campbell, Be...</td>\n",
       "      <td>True story of notorious Australian outlaw Ned ...</td>\n",
       "      <td>6.1</td>\n",
       "      <td>589</td>\n",
       "      <td>$ 2250</td>\n",
       "      <td>NaN</td>\n",
       "      <td>NaN</td>\n",
       "      <td>NaN</td>\n",
       "      <td>7.0</td>\n",
       "      <td>7.0</td>\n",
       "    </tr>\n",
       "    <tr>\n",
       "      <th>85853</th>\n",
       "      <td>tt9914286</td>\n",
       "      <td>Sokagin Çocuklari</td>\n",
       "      <td>Sokagin Çocuklari</td>\n",
       "      <td>2019</td>\n",
       "      <td>2019-03-15</td>\n",
       "      <td>Drama, Family</td>\n",
       "      <td>98</td>\n",
       "      <td>Turkey</td>\n",
       "      <td>Turkish</td>\n",
       "      <td>Ahmet Faik Akinci</td>\n",
       "      <td>...</td>\n",
       "      <td>Ahmet Faik Akinci, Belma Mamati, Metin Keçeci,...</td>\n",
       "      <td>NaN</td>\n",
       "      <td>6.4</td>\n",
       "      <td>194</td>\n",
       "      <td>NaN</td>\n",
       "      <td>NaN</td>\n",
       "      <td>$ 2833</td>\n",
       "      <td>NaN</td>\n",
       "      <td>NaN</td>\n",
       "      <td>NaN</td>\n",
       "    </tr>\n",
       "    <tr>\n",
       "      <th>85854</th>\n",
       "      <td>tt9914942</td>\n",
       "      <td>La vida sense la Sara Amat</td>\n",
       "      <td>La vida sense la Sara Amat</td>\n",
       "      <td>2019</td>\n",
       "      <td>2020-02-05</td>\n",
       "      <td>Drama</td>\n",
       "      <td>74</td>\n",
       "      <td>Spain</td>\n",
       "      <td>Catalan</td>\n",
       "      <td>Laura Jou</td>\n",
       "      <td>...</td>\n",
       "      <td>Maria Morera Colomer, Biel Rossell Pelfort, Is...</td>\n",
       "      <td>Pep, a 13-year-old boy, is in love with a girl...</td>\n",
       "      <td>6.7</td>\n",
       "      <td>102</td>\n",
       "      <td>NaN</td>\n",
       "      <td>NaN</td>\n",
       "      <td>$ 59794</td>\n",
       "      <td>NaN</td>\n",
       "      <td>NaN</td>\n",
       "      <td>2.0</td>\n",
       "    </tr>\n",
       "  </tbody>\n",
       "</table>\n",
       "<p>4 rows × 22 columns</p>\n",
       "</div>"
      ],
      "text/plain": [
       "      imdb_title_id                        title               original_title  \\\n",
       "0         tt0000009                   Miss Jerry                   Miss Jerry   \n",
       "1         tt0000574  The Story of the Kelly Gang  The Story of the Kelly Gang   \n",
       "85853     tt9914286            Sokagin Çocuklari            Sokagin Çocuklari   \n",
       "85854     tt9914942   La vida sense la Sara Amat   La vida sense la Sara Amat   \n",
       "\n",
       "       year date_published                    genre  duration    country  \\\n",
       "0      1894     1894-10-09                  Romance        45        USA   \n",
       "1      1906     1906-12-26  Biography, Crime, Drama        70  Australia   \n",
       "85853  2019     2019-03-15            Drama, Family        98     Turkey   \n",
       "85854  2019     2020-02-05                    Drama        74      Spain   \n",
       "\n",
       "      language           director  ...  \\\n",
       "0         None    Alexander Black  ...   \n",
       "1         None       Charles Tait  ...   \n",
       "85853  Turkish  Ahmet Faik Akinci  ...   \n",
       "85854  Catalan          Laura Jou  ...   \n",
       "\n",
       "                                                  actors  \\\n",
       "0      Blanche Bayliss, William Courtenay, Chauncey D...   \n",
       "1      Elizabeth Tait, John Tait, Norman Campbell, Be...   \n",
       "85853  Ahmet Faik Akinci, Belma Mamati, Metin Keçeci,...   \n",
       "85854  Maria Morera Colomer, Biel Rossell Pelfort, Is...   \n",
       "\n",
       "                                             description avg_vote votes  \\\n",
       "0      The adventures of a female reporter in the 1890s.      5.9   154   \n",
       "1      True story of notorious Australian outlaw Ned ...      6.1   589   \n",
       "85853                                                NaN      6.4   194   \n",
       "85854  Pep, a 13-year-old boy, is in love with a girl...      6.7   102   \n",
       "\n",
       "       budget  usa_gross_income worlwide_gross_income metascore  \\\n",
       "0         NaN               NaN                   NaN       NaN   \n",
       "1      $ 2250               NaN                   NaN       NaN   \n",
       "85853     NaN               NaN                $ 2833       NaN   \n",
       "85854     NaN               NaN               $ 59794       NaN   \n",
       "\n",
       "      reviews_from_users  reviews_from_critics  \n",
       "0                    1.0                   2.0  \n",
       "1                    7.0                   7.0  \n",
       "85853                NaN                   NaN  \n",
       "85854                NaN                   2.0  \n",
       "\n",
       "[4 rows x 22 columns]"
      ]
     },
     "execution_count": 2,
     "metadata": {},
     "output_type": "execute_result"
    }
   ],
   "source": [
    "movies.head(2).append(movies.tail(2)) "
   ]
  },
  {
   "cell_type": "code",
   "execution_count": 3,
   "metadata": {},
   "outputs": [
    {
     "name": "stdout",
     "output_type": "stream",
     "text": [
      "(85855, 22)\n"
     ]
    }
   ],
   "source": [
    "print(movies.shape)"
   ]
  },
  {
   "cell_type": "code",
   "execution_count": 4,
   "metadata": {},
   "outputs": [
    {
     "name": "stdout",
     "output_type": "stream",
     "text": [
      "imdb_title_id             object\n",
      "title                     object\n",
      "original_title            object\n",
      "year                      object\n",
      "date_published            object\n",
      "genre                     object\n",
      "duration                   int64\n",
      "country                   object\n",
      "language                  object\n",
      "director                  object\n",
      "writer                    object\n",
      "production_company        object\n",
      "actors                    object\n",
      "description               object\n",
      "avg_vote                 float64\n",
      "votes                      int64\n",
      "budget                    object\n",
      "usa_gross_income          object\n",
      "worlwide_gross_income     object\n",
      "metascore                float64\n",
      "reviews_from_users       float64\n",
      "reviews_from_critics     float64\n",
      "dtype: object\n"
     ]
    }
   ],
   "source": [
    "print(movies.dtypes)"
   ]
  },
  {
   "cell_type": "code",
   "execution_count": 5,
   "metadata": {},
   "outputs": [
    {
     "name": "stdout",
     "output_type": "stream",
     "text": [
      "imdb_title_id                0\n",
      "title                        0\n",
      "original_title               0\n",
      "year                         0\n",
      "date_published               0\n",
      "genre                        0\n",
      "duration                     0\n",
      "country                     64\n",
      "language                   833\n",
      "director                    87\n",
      "writer                    1572\n",
      "production_company        4455\n",
      "actors                      69\n",
      "description               2115\n",
      "avg_vote                     0\n",
      "votes                        0\n",
      "budget                   62145\n",
      "usa_gross_income         70529\n",
      "worlwide_gross_income    54839\n",
      "metascore                72550\n",
      "reviews_from_users        7597\n",
      "reviews_from_critics     11797\n",
      "dtype: int64\n"
     ]
    }
   ],
   "source": [
    "print(movies.isnull().sum())   # check for missing values"
   ]
  },
  {
   "cell_type": "code",
   "execution_count": 6,
   "metadata": {},
   "outputs": [],
   "source": [
    "# drop the features that has too many missing values\n",
    "cols_to_drop = ['budget', 'usa_gross_income','worlwide_gross_income','metascore','reviews_from_users','reviews_from_critics']\n",
    "movies = movies.drop(cols_to_drop, axis=1)"
   ]
  },
  {
   "cell_type": "code",
   "execution_count": 7,
   "metadata": {},
   "outputs": [
    {
     "name": "stdout",
     "output_type": "stream",
     "text": [
      "imdb_title_id            0\n",
      "title                    0\n",
      "original_title           0\n",
      "year                     0\n",
      "date_published           0\n",
      "genre                    0\n",
      "duration                 0\n",
      "country                 64\n",
      "language               833\n",
      "director                87\n",
      "writer                1572\n",
      "production_company    4455\n",
      "actors                  69\n",
      "description           2115\n",
      "avg_vote                 0\n",
      "votes                    0\n",
      "dtype: int64\n"
     ]
    }
   ],
   "source": [
    "print(movies.isnull().sum())   # check for missing values"
   ]
  },
  {
   "cell_type": "code",
   "execution_count": 8,
   "metadata": {},
   "outputs": [],
   "source": [
    "# replace the rows with missing entries with MISSING \n",
    "movies[['country','language','director','writer','production_company','actors','description']] = movies[['country','language','director','writer','production_company','actors','description']].fillna('_MISSING_')"
   ]
  },
  {
   "cell_type": "code",
   "execution_count": 9,
   "metadata": {},
   "outputs": [
    {
     "name": "stdout",
     "output_type": "stream",
     "text": [
      "imdb_title_id         0\n",
      "title                 0\n",
      "original_title        0\n",
      "year                  0\n",
      "date_published        0\n",
      "genre                 0\n",
      "duration              0\n",
      "country               0\n",
      "language              0\n",
      "director              0\n",
      "writer                0\n",
      "production_company    0\n",
      "actors                0\n",
      "description           0\n",
      "avg_vote              0\n",
      "votes                 0\n",
      "dtype: int64\n"
     ]
    }
   ],
   "source": [
    "print(movies.isnull().sum())"
   ]
  },
  {
   "cell_type": "code",
   "execution_count": 10,
   "metadata": {},
   "outputs": [
    {
     "data": {
      "text/html": [
       "<div>\n",
       "<style scoped>\n",
       "    .dataframe tbody tr th:only-of-type {\n",
       "        vertical-align: middle;\n",
       "    }\n",
       "\n",
       "    .dataframe tbody tr th {\n",
       "        vertical-align: top;\n",
       "    }\n",
       "\n",
       "    .dataframe thead th {\n",
       "        text-align: right;\n",
       "    }\n",
       "</style>\n",
       "<table border=\"1\" class=\"dataframe\">\n",
       "  <thead>\n",
       "    <tr style=\"text-align: right;\">\n",
       "      <th></th>\n",
       "      <th>imdb_title_id</th>\n",
       "      <th>title</th>\n",
       "      <th>original_title</th>\n",
       "      <th>year</th>\n",
       "      <th>date_published</th>\n",
       "      <th>genre</th>\n",
       "      <th>duration</th>\n",
       "      <th>country</th>\n",
       "      <th>language</th>\n",
       "      <th>director</th>\n",
       "      <th>writer</th>\n",
       "      <th>production_company</th>\n",
       "      <th>actors</th>\n",
       "      <th>description</th>\n",
       "      <th>avg_vote</th>\n",
       "      <th>votes</th>\n",
       "    </tr>\n",
       "  </thead>\n",
       "  <tbody>\n",
       "    <tr>\n",
       "      <th>0</th>\n",
       "      <td>tt0000009</td>\n",
       "      <td>Miss Jerry</td>\n",
       "      <td>Miss Jerry</td>\n",
       "      <td>1894</td>\n",
       "      <td>1894-10-09</td>\n",
       "      <td>Romance</td>\n",
       "      <td>45</td>\n",
       "      <td>USA</td>\n",
       "      <td>None</td>\n",
       "      <td>Alexander Black</td>\n",
       "      <td>Alexander Black</td>\n",
       "      <td>Alexander Black Photoplays</td>\n",
       "      <td>Blanche Bayliss, William Courtenay, Chauncey D...</td>\n",
       "      <td>The adventures of a female reporter in the 1890s.</td>\n",
       "      <td>5.9</td>\n",
       "      <td>154</td>\n",
       "    </tr>\n",
       "    <tr>\n",
       "      <th>1</th>\n",
       "      <td>tt0000574</td>\n",
       "      <td>The Story of the Kelly Gang</td>\n",
       "      <td>The Story of the Kelly Gang</td>\n",
       "      <td>1906</td>\n",
       "      <td>1906-12-26</td>\n",
       "      <td>Biography, Crime, Drama</td>\n",
       "      <td>70</td>\n",
       "      <td>Australia</td>\n",
       "      <td>None</td>\n",
       "      <td>Charles Tait</td>\n",
       "      <td>Charles Tait</td>\n",
       "      <td>J. and N. Tait</td>\n",
       "      <td>Elizabeth Tait, John Tait, Norman Campbell, Be...</td>\n",
       "      <td>True story of notorious Australian outlaw Ned ...</td>\n",
       "      <td>6.1</td>\n",
       "      <td>589</td>\n",
       "    </tr>\n",
       "    <tr>\n",
       "      <th>85853</th>\n",
       "      <td>tt9914286</td>\n",
       "      <td>Sokagin Çocuklari</td>\n",
       "      <td>Sokagin Çocuklari</td>\n",
       "      <td>2019</td>\n",
       "      <td>2019-03-15</td>\n",
       "      <td>Drama, Family</td>\n",
       "      <td>98</td>\n",
       "      <td>Turkey</td>\n",
       "      <td>Turkish</td>\n",
       "      <td>Ahmet Faik Akinci</td>\n",
       "      <td>Ahmet Faik Akinci, Kasim Uçkan</td>\n",
       "      <td>Gizem Ajans</td>\n",
       "      <td>Ahmet Faik Akinci, Belma Mamati, Metin Keçeci,...</td>\n",
       "      <td>_MISSING_</td>\n",
       "      <td>6.4</td>\n",
       "      <td>194</td>\n",
       "    </tr>\n",
       "    <tr>\n",
       "      <th>85854</th>\n",
       "      <td>tt9914942</td>\n",
       "      <td>La vida sense la Sara Amat</td>\n",
       "      <td>La vida sense la Sara Amat</td>\n",
       "      <td>2019</td>\n",
       "      <td>2020-02-05</td>\n",
       "      <td>Drama</td>\n",
       "      <td>74</td>\n",
       "      <td>Spain</td>\n",
       "      <td>Catalan</td>\n",
       "      <td>Laura Jou</td>\n",
       "      <td>Coral Cruz, Pep Puig</td>\n",
       "      <td>La Xarxa de Comunicació Local</td>\n",
       "      <td>Maria Morera Colomer, Biel Rossell Pelfort, Is...</td>\n",
       "      <td>Pep, a 13-year-old boy, is in love with a girl...</td>\n",
       "      <td>6.7</td>\n",
       "      <td>102</td>\n",
       "    </tr>\n",
       "  </tbody>\n",
       "</table>\n",
       "</div>"
      ],
      "text/plain": [
       "      imdb_title_id                        title               original_title  \\\n",
       "0         tt0000009                   Miss Jerry                   Miss Jerry   \n",
       "1         tt0000574  The Story of the Kelly Gang  The Story of the Kelly Gang   \n",
       "85853     tt9914286            Sokagin Çocuklari            Sokagin Çocuklari   \n",
       "85854     tt9914942   La vida sense la Sara Amat   La vida sense la Sara Amat   \n",
       "\n",
       "       year date_published                    genre  duration    country  \\\n",
       "0      1894     1894-10-09                  Romance        45        USA   \n",
       "1      1906     1906-12-26  Biography, Crime, Drama        70  Australia   \n",
       "85853  2019     2019-03-15            Drama, Family        98     Turkey   \n",
       "85854  2019     2020-02-05                    Drama        74      Spain   \n",
       "\n",
       "      language           director                          writer  \\\n",
       "0         None    Alexander Black                 Alexander Black   \n",
       "1         None       Charles Tait                    Charles Tait   \n",
       "85853  Turkish  Ahmet Faik Akinci  Ahmet Faik Akinci, Kasim Uçkan   \n",
       "85854  Catalan          Laura Jou            Coral Cruz, Pep Puig   \n",
       "\n",
       "                  production_company  \\\n",
       "0         Alexander Black Photoplays   \n",
       "1                     J. and N. Tait   \n",
       "85853                    Gizem Ajans   \n",
       "85854  La Xarxa de Comunicació Local   \n",
       "\n",
       "                                                  actors  \\\n",
       "0      Blanche Bayliss, William Courtenay, Chauncey D...   \n",
       "1      Elizabeth Tait, John Tait, Norman Campbell, Be...   \n",
       "85853  Ahmet Faik Akinci, Belma Mamati, Metin Keçeci,...   \n",
       "85854  Maria Morera Colomer, Biel Rossell Pelfort, Is...   \n",
       "\n",
       "                                             description  avg_vote  votes  \n",
       "0      The adventures of a female reporter in the 1890s.       5.9    154  \n",
       "1      True story of notorious Australian outlaw Ned ...       6.1    589  \n",
       "85853                                          _MISSING_       6.4    194  \n",
       "85854  Pep, a 13-year-old boy, is in love with a girl...       6.7    102  "
      ]
     },
     "execution_count": 10,
     "metadata": {},
     "output_type": "execute_result"
    }
   ],
   "source": [
    "movies.head(2).append(movies.tail(2)) "
   ]
  },
  {
   "cell_type": "code",
   "execution_count": 11,
   "metadata": {},
   "outputs": [],
   "source": [
    "# save a local copy\n",
    "movies.to_csv('imdb movies_cleaned.csv',encoding='utf-8', index=False)"
   ]
  },
  {
   "cell_type": "code",
   "execution_count": null,
   "metadata": {},
   "outputs": [],
   "source": []
  },
  {
   "cell_type": "code",
   "execution_count": null,
   "metadata": {},
   "outputs": [],
   "source": [
    "# imdb rating dataset cleaning (not used)"
   ]
  },
  {
   "cell_type": "code",
   "execution_count": 12,
   "metadata": {},
   "outputs": [
    {
     "data": {
      "text/html": [
       "<div>\n",
       "<style scoped>\n",
       "    .dataframe tbody tr th:only-of-type {\n",
       "        vertical-align: middle;\n",
       "    }\n",
       "\n",
       "    .dataframe tbody tr th {\n",
       "        vertical-align: top;\n",
       "    }\n",
       "\n",
       "    .dataframe thead th {\n",
       "        text-align: right;\n",
       "    }\n",
       "</style>\n",
       "<table border=\"1\" class=\"dataframe\">\n",
       "  <thead>\n",
       "    <tr style=\"text-align: right;\">\n",
       "      <th></th>\n",
       "      <th>imdb_title_id</th>\n",
       "      <th>weighted_average_vote</th>\n",
       "      <th>total_votes</th>\n",
       "      <th>mean_vote</th>\n",
       "      <th>median_vote</th>\n",
       "      <th>votes_10</th>\n",
       "      <th>votes_9</th>\n",
       "      <th>votes_8</th>\n",
       "      <th>votes_7</th>\n",
       "      <th>votes_6</th>\n",
       "      <th>...</th>\n",
       "      <th>females_30age_avg_vote</th>\n",
       "      <th>females_30age_votes</th>\n",
       "      <th>females_45age_avg_vote</th>\n",
       "      <th>females_45age_votes</th>\n",
       "      <th>top1000_voters_rating</th>\n",
       "      <th>top1000_voters_votes</th>\n",
       "      <th>us_voters_rating</th>\n",
       "      <th>us_voters_votes</th>\n",
       "      <th>non_us_voters_rating</th>\n",
       "      <th>non_us_voters_votes</th>\n",
       "    </tr>\n",
       "  </thead>\n",
       "  <tbody>\n",
       "    <tr>\n",
       "      <th>0</th>\n",
       "      <td>tt0000009</td>\n",
       "      <td>5.9</td>\n",
       "      <td>154</td>\n",
       "      <td>5.9</td>\n",
       "      <td>6.0</td>\n",
       "      <td>12</td>\n",
       "      <td>4</td>\n",
       "      <td>10</td>\n",
       "      <td>43</td>\n",
       "      <td>28</td>\n",
       "      <td>...</td>\n",
       "      <td>5.7</td>\n",
       "      <td>13.0</td>\n",
       "      <td>4.5</td>\n",
       "      <td>4.0</td>\n",
       "      <td>5.7</td>\n",
       "      <td>34.0</td>\n",
       "      <td>6.4</td>\n",
       "      <td>51.0</td>\n",
       "      <td>6.0</td>\n",
       "      <td>70.0</td>\n",
       "    </tr>\n",
       "    <tr>\n",
       "      <th>1</th>\n",
       "      <td>tt0000574</td>\n",
       "      <td>6.1</td>\n",
       "      <td>589</td>\n",
       "      <td>6.3</td>\n",
       "      <td>6.0</td>\n",
       "      <td>57</td>\n",
       "      <td>18</td>\n",
       "      <td>58</td>\n",
       "      <td>137</td>\n",
       "      <td>139</td>\n",
       "      <td>...</td>\n",
       "      <td>6.2</td>\n",
       "      <td>23.0</td>\n",
       "      <td>6.6</td>\n",
       "      <td>14.0</td>\n",
       "      <td>6.4</td>\n",
       "      <td>66.0</td>\n",
       "      <td>6.0</td>\n",
       "      <td>96.0</td>\n",
       "      <td>6.2</td>\n",
       "      <td>331.0</td>\n",
       "    </tr>\n",
       "    <tr>\n",
       "      <th>85853</th>\n",
       "      <td>tt9914286</td>\n",
       "      <td>6.4</td>\n",
       "      <td>194</td>\n",
       "      <td>9.4</td>\n",
       "      <td>10.0</td>\n",
       "      <td>176</td>\n",
       "      <td>0</td>\n",
       "      <td>2</td>\n",
       "      <td>2</td>\n",
       "      <td>1</td>\n",
       "      <td>...</td>\n",
       "      <td>NaN</td>\n",
       "      <td>NaN</td>\n",
       "      <td>7.0</td>\n",
       "      <td>1.0</td>\n",
       "      <td>4.0</td>\n",
       "      <td>3.0</td>\n",
       "      <td>1.7</td>\n",
       "      <td>5.0</td>\n",
       "      <td>5.8</td>\n",
       "      <td>5.0</td>\n",
       "    </tr>\n",
       "    <tr>\n",
       "      <th>85854</th>\n",
       "      <td>tt9914942</td>\n",
       "      <td>6.7</td>\n",
       "      <td>102</td>\n",
       "      <td>6.8</td>\n",
       "      <td>7.0</td>\n",
       "      <td>4</td>\n",
       "      <td>4</td>\n",
       "      <td>21</td>\n",
       "      <td>35</td>\n",
       "      <td>27</td>\n",
       "      <td>...</td>\n",
       "      <td>6.8</td>\n",
       "      <td>4.0</td>\n",
       "      <td>7.5</td>\n",
       "      <td>4.0</td>\n",
       "      <td>7.0</td>\n",
       "      <td>4.0</td>\n",
       "      <td>6.7</td>\n",
       "      <td>13.0</td>\n",
       "      <td>6.7</td>\n",
       "      <td>60.0</td>\n",
       "    </tr>\n",
       "  </tbody>\n",
       "</table>\n",
       "<p>4 rows × 49 columns</p>\n",
       "</div>"
      ],
      "text/plain": [
       "      imdb_title_id  weighted_average_vote  total_votes  mean_vote  \\\n",
       "0         tt0000009                    5.9          154        5.9   \n",
       "1         tt0000574                    6.1          589        6.3   \n",
       "85853     tt9914286                    6.4          194        9.4   \n",
       "85854     tt9914942                    6.7          102        6.8   \n",
       "\n",
       "       median_vote  votes_10  votes_9  votes_8  votes_7  votes_6  ...  \\\n",
       "0              6.0        12        4       10       43       28  ...   \n",
       "1              6.0        57       18       58      137      139  ...   \n",
       "85853         10.0       176        0        2        2        1  ...   \n",
       "85854          7.0         4        4       21       35       27  ...   \n",
       "\n",
       "       females_30age_avg_vote  females_30age_votes  females_45age_avg_vote  \\\n",
       "0                         5.7                 13.0                     4.5   \n",
       "1                         6.2                 23.0                     6.6   \n",
       "85853                     NaN                  NaN                     7.0   \n",
       "85854                     6.8                  4.0                     7.5   \n",
       "\n",
       "       females_45age_votes  top1000_voters_rating  top1000_voters_votes  \\\n",
       "0                      4.0                    5.7                  34.0   \n",
       "1                     14.0                    6.4                  66.0   \n",
       "85853                  1.0                    4.0                   3.0   \n",
       "85854                  4.0                    7.0                   4.0   \n",
       "\n",
       "       us_voters_rating  us_voters_votes  non_us_voters_rating  \\\n",
       "0                   6.4             51.0                   6.0   \n",
       "1                   6.0             96.0                   6.2   \n",
       "85853               1.7              5.0                   5.8   \n",
       "85854               6.7             13.0                   6.7   \n",
       "\n",
       "       non_us_voters_votes  \n",
       "0                     70.0  \n",
       "1                    331.0  \n",
       "85853                  5.0  \n",
       "85854                 60.0  \n",
       "\n",
       "[4 rows x 49 columns]"
      ]
     },
     "execution_count": 12,
     "metadata": {},
     "output_type": "execute_result"
    }
   ],
   "source": [
    "imdb_ratings.head(2).append(imdb_ratings.tail(2)) "
   ]
  },
  {
   "cell_type": "code",
   "execution_count": 13,
   "metadata": {},
   "outputs": [
    {
     "name": "stdout",
     "output_type": "stream",
     "text": [
      "(85855, 49)\n"
     ]
    }
   ],
   "source": [
    "print(imdb_ratings.shape)"
   ]
  },
  {
   "cell_type": "code",
   "execution_count": 14,
   "metadata": {},
   "outputs": [
    {
     "name": "stdout",
     "output_type": "stream",
     "text": [
      "imdb_title_id                 object\n",
      "weighted_average_vote        float64\n",
      "total_votes                    int64\n",
      "mean_vote                    float64\n",
      "median_vote                  float64\n",
      "votes_10                       int64\n",
      "votes_9                        int64\n",
      "votes_8                        int64\n",
      "votes_7                        int64\n",
      "votes_6                        int64\n",
      "votes_5                        int64\n",
      "votes_4                        int64\n",
      "votes_3                        int64\n",
      "votes_2                        int64\n",
      "votes_1                        int64\n",
      "allgenders_0age_avg_vote     float64\n",
      "allgenders_0age_votes        float64\n",
      "allgenders_18age_avg_vote    float64\n",
      "allgenders_18age_votes       float64\n",
      "allgenders_30age_avg_vote    float64\n",
      "allgenders_30age_votes       float64\n",
      "allgenders_45age_avg_vote    float64\n",
      "allgenders_45age_votes       float64\n",
      "males_allages_avg_vote       float64\n",
      "males_allages_votes          float64\n",
      "males_0age_avg_vote          float64\n",
      "males_0age_votes             float64\n",
      "males_18age_avg_vote         float64\n",
      "males_18age_votes            float64\n",
      "males_30age_avg_vote         float64\n",
      "males_30age_votes            float64\n",
      "males_45age_avg_vote         float64\n",
      "males_45age_votes            float64\n",
      "females_allages_avg_vote     float64\n",
      "females_allages_votes        float64\n",
      "females_0age_avg_vote        float64\n",
      "females_0age_votes           float64\n",
      "females_18age_avg_vote       float64\n",
      "females_18age_votes          float64\n",
      "females_30age_avg_vote       float64\n",
      "females_30age_votes          float64\n",
      "females_45age_avg_vote       float64\n",
      "females_45age_votes          float64\n",
      "top1000_voters_rating        float64\n",
      "top1000_voters_votes         float64\n",
      "us_voters_rating             float64\n",
      "us_voters_votes              float64\n",
      "non_us_voters_rating         float64\n",
      "non_us_voters_votes          float64\n",
      "dtype: object\n"
     ]
    }
   ],
   "source": [
    "print(imdb_ratings.dtypes)"
   ]
  },
  {
   "cell_type": "code",
   "execution_count": 15,
   "metadata": {},
   "outputs": [
    {
     "name": "stdout",
     "output_type": "stream",
     "text": [
      "imdb_title_id                    0\n",
      "weighted_average_vote            0\n",
      "total_votes                      0\n",
      "mean_vote                        0\n",
      "median_vote                      0\n",
      "votes_10                         0\n",
      "votes_9                          0\n",
      "votes_8                          0\n",
      "votes_7                          0\n",
      "votes_6                          0\n",
      "votes_5                          0\n",
      "votes_4                          0\n",
      "votes_3                          0\n",
      "votes_2                          0\n",
      "votes_1                          0\n",
      "allgenders_0age_avg_vote     52496\n",
      "allgenders_0age_votes        52496\n",
      "allgenders_18age_avg_vote      706\n",
      "allgenders_18age_votes         706\n",
      "allgenders_30age_avg_vote       10\n",
      "allgenders_30age_votes          10\n",
      "allgenders_45age_avg_vote       80\n",
      "allgenders_45age_votes          80\n",
      "males_allages_avg_vote           1\n",
      "males_allages_votes              1\n",
      "males_0age_avg_vote          58444\n",
      "males_0age_votes             58444\n",
      "males_18age_avg_vote          1465\n",
      "males_18age_votes             1465\n",
      "males_30age_avg_vote            12\n",
      "males_30age_votes               12\n",
      "males_45age_avg_vote           101\n",
      "males_45age_votes              101\n",
      "females_allages_avg_vote        81\n",
      "females_allages_votes           81\n",
      "females_0age_avg_vote        63738\n",
      "females_0age_votes           63738\n",
      "females_18age_avg_vote        6521\n",
      "females_18age_votes           6521\n",
      "females_30age_avg_vote         944\n",
      "females_30age_votes            944\n",
      "females_45age_avg_vote        2798\n",
      "females_45age_votes           2798\n",
      "top1000_voters_rating          679\n",
      "top1000_voters_votes           679\n",
      "us_voters_rating               209\n",
      "us_voters_votes                209\n",
      "non_us_voters_rating             1\n",
      "non_us_voters_votes              1\n",
      "dtype: int64\n"
     ]
    }
   ],
   "source": [
    "print(imdb_ratings.isnull().sum())   # check for missing values"
   ]
  },
  {
   "cell_type": "code",
   "execution_count": 16,
   "metadata": {},
   "outputs": [],
   "source": [
    "# drop the demographics\n",
    "imdb_ratings=imdb_ratings.drop(imdb_ratings.columns[15:49], axis=1)"
   ]
  },
  {
   "cell_type": "code",
   "execution_count": 17,
   "metadata": {},
   "outputs": [
    {
     "name": "stdout",
     "output_type": "stream",
     "text": [
      "imdb_title_id            0\n",
      "weighted_average_vote    0\n",
      "total_votes              0\n",
      "mean_vote                0\n",
      "median_vote              0\n",
      "votes_10                 0\n",
      "votes_9                  0\n",
      "votes_8                  0\n",
      "votes_7                  0\n",
      "votes_6                  0\n",
      "votes_5                  0\n",
      "votes_4                  0\n",
      "votes_3                  0\n",
      "votes_2                  0\n",
      "votes_1                  0\n",
      "dtype: int64\n"
     ]
    }
   ],
   "source": [
    "print(imdb_ratings.isnull().sum())"
   ]
  },
  {
   "cell_type": "code",
   "execution_count": 18,
   "metadata": {},
   "outputs": [
    {
     "name": "stdout",
     "output_type": "stream",
     "text": [
      "(85855, 15)\n"
     ]
    }
   ],
   "source": [
    "print(imdb_ratings.shape)"
   ]
  },
  {
   "cell_type": "code",
   "execution_count": null,
   "metadata": {},
   "outputs": [],
   "source": [
    "# now, merge the two dataset using imdb_title_id"
   ]
  },
  {
   "cell_type": "code",
   "execution_count": 19,
   "metadata": {},
   "outputs": [
    {
     "data": {
      "text/plain": [
       "True"
      ]
     },
     "execution_count": 19,
     "metadata": {},
     "output_type": "execute_result"
    }
   ],
   "source": [
    "movies['imdb_title_id'].is_unique"
   ]
  },
  {
   "cell_type": "code",
   "execution_count": 20,
   "metadata": {},
   "outputs": [
    {
     "data": {
      "text/plain": [
       "True"
      ]
     },
     "execution_count": 20,
     "metadata": {},
     "output_type": "execute_result"
    }
   ],
   "source": [
    "imdb_ratings['imdb_title_id'].is_unique"
   ]
  },
  {
   "cell_type": "code",
   "execution_count": 21,
   "metadata": {},
   "outputs": [],
   "source": [
    "# merge two datasets using inner join\n",
    "imdb_movies_ratings = pd.merge(movies, imdb_ratings, how=\"inner\", on='imdb_title_id')"
   ]
  },
  {
   "cell_type": "code",
   "execution_count": 22,
   "metadata": {},
   "outputs": [
    {
     "name": "stdout",
     "output_type": "stream",
     "text": [
      "(85855, 30)\n"
     ]
    }
   ],
   "source": [
    "print(imdb_movies_ratings.shape)"
   ]
  },
  {
   "cell_type": "code",
   "execution_count": 23,
   "metadata": {},
   "outputs": [
    {
     "name": "stdout",
     "output_type": "stream",
     "text": [
      "imdb_title_id             object\n",
      "title                     object\n",
      "original_title            object\n",
      "year                      object\n",
      "date_published            object\n",
      "genre                     object\n",
      "duration                   int64\n",
      "country                   object\n",
      "language                  object\n",
      "director                  object\n",
      "writer                    object\n",
      "production_company        object\n",
      "actors                    object\n",
      "description               object\n",
      "avg_vote                 float64\n",
      "votes                      int64\n",
      "weighted_average_vote    float64\n",
      "total_votes                int64\n",
      "mean_vote                float64\n",
      "median_vote              float64\n",
      "votes_10                   int64\n",
      "votes_9                    int64\n",
      "votes_8                    int64\n",
      "votes_7                    int64\n",
      "votes_6                    int64\n",
      "votes_5                    int64\n",
      "votes_4                    int64\n",
      "votes_3                    int64\n",
      "votes_2                    int64\n",
      "votes_1                    int64\n",
      "dtype: object\n"
     ]
    }
   ],
   "source": [
    "print(imdb_movies_ratings.dtypes)"
   ]
  },
  {
   "cell_type": "code",
   "execution_count": 24,
   "metadata": {},
   "outputs": [
    {
     "data": {
      "text/html": [
       "<div>\n",
       "<style scoped>\n",
       "    .dataframe tbody tr th:only-of-type {\n",
       "        vertical-align: middle;\n",
       "    }\n",
       "\n",
       "    .dataframe tbody tr th {\n",
       "        vertical-align: top;\n",
       "    }\n",
       "\n",
       "    .dataframe thead th {\n",
       "        text-align: right;\n",
       "    }\n",
       "</style>\n",
       "<table border=\"1\" class=\"dataframe\">\n",
       "  <thead>\n",
       "    <tr style=\"text-align: right;\">\n",
       "      <th></th>\n",
       "      <th>imdb_title_id</th>\n",
       "      <th>title</th>\n",
       "      <th>original_title</th>\n",
       "      <th>year</th>\n",
       "      <th>date_published</th>\n",
       "      <th>genre</th>\n",
       "      <th>duration</th>\n",
       "      <th>country</th>\n",
       "      <th>language</th>\n",
       "      <th>director</th>\n",
       "      <th>...</th>\n",
       "      <th>votes_10</th>\n",
       "      <th>votes_9</th>\n",
       "      <th>votes_8</th>\n",
       "      <th>votes_7</th>\n",
       "      <th>votes_6</th>\n",
       "      <th>votes_5</th>\n",
       "      <th>votes_4</th>\n",
       "      <th>votes_3</th>\n",
       "      <th>votes_2</th>\n",
       "      <th>votes_1</th>\n",
       "    </tr>\n",
       "  </thead>\n",
       "  <tbody>\n",
       "    <tr>\n",
       "      <th>0</th>\n",
       "      <td>tt0000009</td>\n",
       "      <td>Miss Jerry</td>\n",
       "      <td>Miss Jerry</td>\n",
       "      <td>1894</td>\n",
       "      <td>1894-10-09</td>\n",
       "      <td>Romance</td>\n",
       "      <td>45</td>\n",
       "      <td>USA</td>\n",
       "      <td>None</td>\n",
       "      <td>Alexander Black</td>\n",
       "      <td>...</td>\n",
       "      <td>12</td>\n",
       "      <td>4</td>\n",
       "      <td>10</td>\n",
       "      <td>43</td>\n",
       "      <td>28</td>\n",
       "      <td>28</td>\n",
       "      <td>9</td>\n",
       "      <td>1</td>\n",
       "      <td>5</td>\n",
       "      <td>14</td>\n",
       "    </tr>\n",
       "    <tr>\n",
       "      <th>1</th>\n",
       "      <td>tt0000574</td>\n",
       "      <td>The Story of the Kelly Gang</td>\n",
       "      <td>The Story of the Kelly Gang</td>\n",
       "      <td>1906</td>\n",
       "      <td>1906-12-26</td>\n",
       "      <td>Biography, Crime, Drama</td>\n",
       "      <td>70</td>\n",
       "      <td>Australia</td>\n",
       "      <td>None</td>\n",
       "      <td>Charles Tait</td>\n",
       "      <td>...</td>\n",
       "      <td>57</td>\n",
       "      <td>18</td>\n",
       "      <td>58</td>\n",
       "      <td>137</td>\n",
       "      <td>139</td>\n",
       "      <td>103</td>\n",
       "      <td>28</td>\n",
       "      <td>20</td>\n",
       "      <td>13</td>\n",
       "      <td>16</td>\n",
       "    </tr>\n",
       "    <tr>\n",
       "      <th>85853</th>\n",
       "      <td>tt9914286</td>\n",
       "      <td>Sokagin Çocuklari</td>\n",
       "      <td>Sokagin Çocuklari</td>\n",
       "      <td>2019</td>\n",
       "      <td>2019-03-15</td>\n",
       "      <td>Drama, Family</td>\n",
       "      <td>98</td>\n",
       "      <td>Turkey</td>\n",
       "      <td>Turkish</td>\n",
       "      <td>Ahmet Faik Akinci</td>\n",
       "      <td>...</td>\n",
       "      <td>176</td>\n",
       "      <td>0</td>\n",
       "      <td>2</td>\n",
       "      <td>2</td>\n",
       "      <td>1</td>\n",
       "      <td>0</td>\n",
       "      <td>1</td>\n",
       "      <td>1</td>\n",
       "      <td>0</td>\n",
       "      <td>11</td>\n",
       "    </tr>\n",
       "    <tr>\n",
       "      <th>85854</th>\n",
       "      <td>tt9914942</td>\n",
       "      <td>La vida sense la Sara Amat</td>\n",
       "      <td>La vida sense la Sara Amat</td>\n",
       "      <td>2019</td>\n",
       "      <td>2020-02-05</td>\n",
       "      <td>Drama</td>\n",
       "      <td>74</td>\n",
       "      <td>Spain</td>\n",
       "      <td>Catalan</td>\n",
       "      <td>Laura Jou</td>\n",
       "      <td>...</td>\n",
       "      <td>4</td>\n",
       "      <td>4</td>\n",
       "      <td>21</td>\n",
       "      <td>35</td>\n",
       "      <td>27</td>\n",
       "      <td>2</td>\n",
       "      <td>4</td>\n",
       "      <td>3</td>\n",
       "      <td>1</td>\n",
       "      <td>1</td>\n",
       "    </tr>\n",
       "  </tbody>\n",
       "</table>\n",
       "<p>4 rows × 30 columns</p>\n",
       "</div>"
      ],
      "text/plain": [
       "      imdb_title_id                        title               original_title  \\\n",
       "0         tt0000009                   Miss Jerry                   Miss Jerry   \n",
       "1         tt0000574  The Story of the Kelly Gang  The Story of the Kelly Gang   \n",
       "85853     tt9914286            Sokagin Çocuklari            Sokagin Çocuklari   \n",
       "85854     tt9914942   La vida sense la Sara Amat   La vida sense la Sara Amat   \n",
       "\n",
       "       year date_published                    genre  duration    country  \\\n",
       "0      1894     1894-10-09                  Romance        45        USA   \n",
       "1      1906     1906-12-26  Biography, Crime, Drama        70  Australia   \n",
       "85853  2019     2019-03-15            Drama, Family        98     Turkey   \n",
       "85854  2019     2020-02-05                    Drama        74      Spain   \n",
       "\n",
       "      language           director  ... votes_10 votes_9 votes_8 votes_7  \\\n",
       "0         None    Alexander Black  ...       12       4      10      43   \n",
       "1         None       Charles Tait  ...       57      18      58     137   \n",
       "85853  Turkish  Ahmet Faik Akinci  ...      176       0       2       2   \n",
       "85854  Catalan          Laura Jou  ...        4       4      21      35   \n",
       "\n",
       "       votes_6  votes_5  votes_4  votes_3  votes_2  votes_1  \n",
       "0           28       28        9        1        5       14  \n",
       "1          139      103       28       20       13       16  \n",
       "85853        1        0        1        1        0       11  \n",
       "85854       27        2        4        3        1        1  \n",
       "\n",
       "[4 rows x 30 columns]"
      ]
     },
     "execution_count": 24,
     "metadata": {},
     "output_type": "execute_result"
    }
   ],
   "source": [
    "# merged imdb rating with movies features (not used)\n",
    "imdb_movies_ratings.head(2).append(imdb_movies_ratings.tail(2)) "
   ]
  },
  {
   "cell_type": "code",
   "execution_count": null,
   "metadata": {},
   "outputs": [],
   "source": [
    "#-------------------END OF CLEANING FOR IMDB DATA-----------------"
   ]
  },
  {
   "cell_type": "code",
   "execution_count": null,
   "metadata": {},
   "outputs": [],
   "source": [
    "# Data cleaning for MovieLens Data"
   ]
  },
  {
   "cell_type": "code",
   "execution_count": 56,
   "metadata": {},
   "outputs": [],
   "source": [
    "import pandas as pd\n",
    "import numpy as np\n",
    "\n",
    "# import datasets - small 100k ratings\n",
    "MovieLens_movies = pd.read_csv('movies.csv')\n",
    "ML_ratings = pd.read_csv('ratings.csv')\n",
    "ML_links = pd.read_csv('links.csv')\n",
    "ML_tags = pd.read_csv('tags.csv')\n",
    "\n",
    "#ML_tag_id = pd.read_csv('genome-tags.csv')\n",
    "#ML_tag_score = pd.read_csv('genome-scores.csv')"
   ]
  },
  {
   "cell_type": "code",
   "execution_count": null,
   "metadata": {},
   "outputs": [],
   "source": [
    "# users ratings"
   ]
  },
  {
   "cell_type": "code",
   "execution_count": 20,
   "metadata": {},
   "outputs": [
    {
     "data": {
      "text/html": [
       "<div>\n",
       "<style scoped>\n",
       "    .dataframe tbody tr th:only-of-type {\n",
       "        vertical-align: middle;\n",
       "    }\n",
       "\n",
       "    .dataframe tbody tr th {\n",
       "        vertical-align: top;\n",
       "    }\n",
       "\n",
       "    .dataframe thead th {\n",
       "        text-align: right;\n",
       "    }\n",
       "</style>\n",
       "<table border=\"1\" class=\"dataframe\">\n",
       "  <thead>\n",
       "    <tr style=\"text-align: right;\">\n",
       "      <th></th>\n",
       "      <th>userId</th>\n",
       "      <th>movieId</th>\n",
       "      <th>rating</th>\n",
       "      <th>timestamp</th>\n",
       "    </tr>\n",
       "  </thead>\n",
       "  <tbody>\n",
       "    <tr>\n",
       "      <th>0</th>\n",
       "      <td>1</td>\n",
       "      <td>1</td>\n",
       "      <td>4.0</td>\n",
       "      <td>964982703</td>\n",
       "    </tr>\n",
       "    <tr>\n",
       "      <th>1</th>\n",
       "      <td>1</td>\n",
       "      <td>3</td>\n",
       "      <td>4.0</td>\n",
       "      <td>964981247</td>\n",
       "    </tr>\n",
       "    <tr>\n",
       "      <th>2</th>\n",
       "      <td>1</td>\n",
       "      <td>6</td>\n",
       "      <td>4.0</td>\n",
       "      <td>964982224</td>\n",
       "    </tr>\n",
       "    <tr>\n",
       "      <th>100833</th>\n",
       "      <td>610</td>\n",
       "      <td>168250</td>\n",
       "      <td>5.0</td>\n",
       "      <td>1494273047</td>\n",
       "    </tr>\n",
       "    <tr>\n",
       "      <th>100834</th>\n",
       "      <td>610</td>\n",
       "      <td>168252</td>\n",
       "      <td>5.0</td>\n",
       "      <td>1493846352</td>\n",
       "    </tr>\n",
       "    <tr>\n",
       "      <th>100835</th>\n",
       "      <td>610</td>\n",
       "      <td>170875</td>\n",
       "      <td>3.0</td>\n",
       "      <td>1493846415</td>\n",
       "    </tr>\n",
       "  </tbody>\n",
       "</table>\n",
       "</div>"
      ],
      "text/plain": [
       "        userId  movieId  rating   timestamp\n",
       "0            1        1     4.0   964982703\n",
       "1            1        3     4.0   964981247\n",
       "2            1        6     4.0   964982224\n",
       "100833     610   168250     5.0  1494273047\n",
       "100834     610   168252     5.0  1493846352\n",
       "100835     610   170875     3.0  1493846415"
      ]
     },
     "execution_count": 20,
     "metadata": {},
     "output_type": "execute_result"
    }
   ],
   "source": [
    "ML_ratings.head(3).append(ML_ratings.tail(3)) "
   ]
  },
  {
   "cell_type": "code",
   "execution_count": 58,
   "metadata": {},
   "outputs": [
    {
     "name": "stdout",
     "output_type": "stream",
     "text": [
      "(100836, 4)\n"
     ]
    }
   ],
   "source": [
    "print(ML_ratings.shape) # 100k user ratings on movies"
   ]
  },
  {
   "cell_type": "code",
   "execution_count": 59,
   "metadata": {},
   "outputs": [
    {
     "name": "stdout",
     "output_type": "stream",
     "text": [
      "userId         int64\n",
      "movieId        int64\n",
      "rating       float64\n",
      "timestamp      int64\n",
      "dtype: object\n"
     ]
    }
   ],
   "source": [
    "print(ML_ratings.dtypes)"
   ]
  },
  {
   "cell_type": "code",
   "execution_count": 60,
   "metadata": {},
   "outputs": [
    {
     "name": "stdout",
     "output_type": "stream",
     "text": [
      "userId       0\n",
      "movieId      0\n",
      "rating       0\n",
      "timestamp    0\n",
      "dtype: int64\n"
     ]
    }
   ],
   "source": [
    "print(ML_ratings.isnull().sum())   # check for missing values"
   ]
  },
  {
   "cell_type": "code",
   "execution_count": null,
   "metadata": {},
   "outputs": [],
   "source": [
    "# MovieLens_movies"
   ]
  },
  {
   "cell_type": "code",
   "execution_count": 61,
   "metadata": {},
   "outputs": [
    {
     "data": {
      "text/html": [
       "<div>\n",
       "<style scoped>\n",
       "    .dataframe tbody tr th:only-of-type {\n",
       "        vertical-align: middle;\n",
       "    }\n",
       "\n",
       "    .dataframe tbody tr th {\n",
       "        vertical-align: top;\n",
       "    }\n",
       "\n",
       "    .dataframe thead th {\n",
       "        text-align: right;\n",
       "    }\n",
       "</style>\n",
       "<table border=\"1\" class=\"dataframe\">\n",
       "  <thead>\n",
       "    <tr style=\"text-align: right;\">\n",
       "      <th></th>\n",
       "      <th>movieId</th>\n",
       "      <th>title</th>\n",
       "      <th>genres</th>\n",
       "    </tr>\n",
       "  </thead>\n",
       "  <tbody>\n",
       "    <tr>\n",
       "      <th>0</th>\n",
       "      <td>1</td>\n",
       "      <td>Toy Story (1995)</td>\n",
       "      <td>Adventure|Animation|Children|Comedy|Fantasy</td>\n",
       "    </tr>\n",
       "    <tr>\n",
       "      <th>1</th>\n",
       "      <td>2</td>\n",
       "      <td>Jumanji (1995)</td>\n",
       "      <td>Adventure|Children|Fantasy</td>\n",
       "    </tr>\n",
       "    <tr>\n",
       "      <th>9740</th>\n",
       "      <td>193587</td>\n",
       "      <td>Bungo Stray Dogs: Dead Apple (2018)</td>\n",
       "      <td>Action|Animation</td>\n",
       "    </tr>\n",
       "    <tr>\n",
       "      <th>9741</th>\n",
       "      <td>193609</td>\n",
       "      <td>Andrew Dice Clay: Dice Rules (1991)</td>\n",
       "      <td>Comedy</td>\n",
       "    </tr>\n",
       "  </tbody>\n",
       "</table>\n",
       "</div>"
      ],
      "text/plain": [
       "      movieId                                title  \\\n",
       "0           1                     Toy Story (1995)   \n",
       "1           2                       Jumanji (1995)   \n",
       "9740   193587  Bungo Stray Dogs: Dead Apple (2018)   \n",
       "9741   193609  Andrew Dice Clay: Dice Rules (1991)   \n",
       "\n",
       "                                           genres  \n",
       "0     Adventure|Animation|Children|Comedy|Fantasy  \n",
       "1                      Adventure|Children|Fantasy  \n",
       "9740                             Action|Animation  \n",
       "9741                                       Comedy  "
      ]
     },
     "execution_count": 61,
     "metadata": {},
     "output_type": "execute_result"
    }
   ],
   "source": [
    "MovieLens_movies.head(2).append(MovieLens_movies.tail(2)) "
   ]
  },
  {
   "cell_type": "code",
   "execution_count": 62,
   "metadata": {},
   "outputs": [
    {
     "name": "stdout",
     "output_type": "stream",
     "text": [
      "(9742, 3)\n"
     ]
    }
   ],
   "source": [
    "print(MovieLens_movies.shape) # 9742 movies"
   ]
  },
  {
   "cell_type": "code",
   "execution_count": 63,
   "metadata": {},
   "outputs": [
    {
     "name": "stdout",
     "output_type": "stream",
     "text": [
      "movieId     int64\n",
      "title      object\n",
      "genres     object\n",
      "dtype: object\n"
     ]
    }
   ],
   "source": [
    "print(MovieLens_movies.dtypes)"
   ]
  },
  {
   "cell_type": "code",
   "execution_count": 64,
   "metadata": {},
   "outputs": [
    {
     "name": "stdout",
     "output_type": "stream",
     "text": [
      "movieId    0\n",
      "title      0\n",
      "genres     0\n",
      "dtype: int64\n"
     ]
    }
   ],
   "source": [
    "print(MovieLens_movies.isnull().sum())   # check for missing values"
   ]
  },
  {
   "cell_type": "code",
   "execution_count": null,
   "metadata": {},
   "outputs": [],
   "source": [
    "# MovieLens_movies can merge with ML_ratings with on movieID "
   ]
  },
  {
   "cell_type": "code",
   "execution_count": null,
   "metadata": {},
   "outputs": [],
   "source": [
    "# users tagging"
   ]
  },
  {
   "cell_type": "code",
   "execution_count": 65,
   "metadata": {},
   "outputs": [
    {
     "data": {
      "text/html": [
       "<div>\n",
       "<style scoped>\n",
       "    .dataframe tbody tr th:only-of-type {\n",
       "        vertical-align: middle;\n",
       "    }\n",
       "\n",
       "    .dataframe tbody tr th {\n",
       "        vertical-align: top;\n",
       "    }\n",
       "\n",
       "    .dataframe thead th {\n",
       "        text-align: right;\n",
       "    }\n",
       "</style>\n",
       "<table border=\"1\" class=\"dataframe\">\n",
       "  <thead>\n",
       "    <tr style=\"text-align: right;\">\n",
       "      <th></th>\n",
       "      <th>userId</th>\n",
       "      <th>movieId</th>\n",
       "      <th>tag</th>\n",
       "      <th>timestamp</th>\n",
       "    </tr>\n",
       "  </thead>\n",
       "  <tbody>\n",
       "    <tr>\n",
       "      <th>0</th>\n",
       "      <td>2</td>\n",
       "      <td>60756</td>\n",
       "      <td>funny</td>\n",
       "      <td>1445714994</td>\n",
       "    </tr>\n",
       "    <tr>\n",
       "      <th>1</th>\n",
       "      <td>2</td>\n",
       "      <td>60756</td>\n",
       "      <td>Highly quotable</td>\n",
       "      <td>1445714996</td>\n",
       "    </tr>\n",
       "    <tr>\n",
       "      <th>3681</th>\n",
       "      <td>610</td>\n",
       "      <td>3265</td>\n",
       "      <td>heroic bloodshed</td>\n",
       "      <td>1493843978</td>\n",
       "    </tr>\n",
       "    <tr>\n",
       "      <th>3682</th>\n",
       "      <td>610</td>\n",
       "      <td>168248</td>\n",
       "      <td>Heroic Bloodshed</td>\n",
       "      <td>1493844270</td>\n",
       "    </tr>\n",
       "  </tbody>\n",
       "</table>\n",
       "</div>"
      ],
      "text/plain": [
       "      userId  movieId               tag   timestamp\n",
       "0          2    60756             funny  1445714994\n",
       "1          2    60756   Highly quotable  1445714996\n",
       "3681     610     3265  heroic bloodshed  1493843978\n",
       "3682     610   168248  Heroic Bloodshed  1493844270"
      ]
     },
     "execution_count": 65,
     "metadata": {},
     "output_type": "execute_result"
    }
   ],
   "source": [
    "ML_tags.head(2).append(ML_tags.tail(2)) "
   ]
  },
  {
   "cell_type": "code",
   "execution_count": 66,
   "metadata": {},
   "outputs": [
    {
     "name": "stdout",
     "output_type": "stream",
     "text": [
      "(3683, 4)\n"
     ]
    }
   ],
   "source": [
    "print(ML_tags.shape) # 3683 user taggings on movies"
   ]
  },
  {
   "cell_type": "code",
   "execution_count": 67,
   "metadata": {},
   "outputs": [
    {
     "name": "stdout",
     "output_type": "stream",
     "text": [
      "userId        int64\n",
      "movieId       int64\n",
      "tag          object\n",
      "timestamp     int64\n",
      "dtype: object\n"
     ]
    }
   ],
   "source": [
    "print(ML_tags.dtypes)"
   ]
  },
  {
   "cell_type": "code",
   "execution_count": 68,
   "metadata": {},
   "outputs": [
    {
     "name": "stdout",
     "output_type": "stream",
     "text": [
      "userId       0\n",
      "movieId      0\n",
      "tag          0\n",
      "timestamp    0\n",
      "dtype: int64\n"
     ]
    }
   ],
   "source": [
    "print(ML_tags.isnull().sum())   # check for missing values"
   ]
  },
  {
   "cell_type": "code",
   "execution_count": 44,
   "metadata": {},
   "outputs": [],
   "source": [
    "# can remove the 16 rows for missing tags\n",
    "# replace the rows with missing entries with MISSING \n",
    "#ML_tags=ML_tags.dropna()"
   ]
  },
  {
   "cell_type": "code",
   "execution_count": 69,
   "metadata": {},
   "outputs": [
    {
     "name": "stdout",
     "output_type": "stream",
     "text": [
      "userId       0\n",
      "movieId      0\n",
      "tag          0\n",
      "timestamp    0\n",
      "dtype: int64\n"
     ]
    }
   ],
   "source": [
    "print(ML_tags.isnull().sum()) "
   ]
  },
  {
   "cell_type": "code",
   "execution_count": 70,
   "metadata": {},
   "outputs": [
    {
     "name": "stdout",
     "output_type": "stream",
     "text": [
      "(3683, 4)\n"
     ]
    }
   ],
   "source": [
    "print(ML_tags.shape) # 109M user taggings on movies"
   ]
  },
  {
   "cell_type": "code",
   "execution_count": null,
   "metadata": {},
   "outputs": [],
   "source": []
  },
  {
   "cell_type": "code",
   "execution_count": null,
   "metadata": {},
   "outputs": [],
   "source": [
    "# For Hybrid Model - combine the two dataset - create a metadata dataset"
   ]
  },
  {
   "cell_type": "code",
   "execution_count": 1,
   "metadata": {},
   "outputs": [
    {
     "name": "stderr",
     "output_type": "stream",
     "text": [
      "C:\\Users\\ipone\\Anaconda3\\lib\\site-packages\\IPython\\core\\interactiveshell.py:3326: DtypeWarning: Columns (3) have mixed types.Specify dtype option on import or set low_memory=False.\n",
      "  exec(code_obj, self.user_global_ns, self.user_ns)\n"
     ]
    }
   ],
   "source": [
    "import pandas as pd\n",
    "import numpy as np\n",
    "\n",
    "# import datasets\n",
    "movies = pd.read_csv('imdb movies_cleaned.csv')  # cleaned imdb movies dataset, refer to data cleaning file\n",
    "MovieLens_movies = pd.read_csv('movies.csv')\n",
    "ML_ratings = pd.read_csv('ratings.csv')\n",
    "ML_links = pd.read_csv('links.csv')"
   ]
  },
  {
   "cell_type": "code",
   "execution_count": 2,
   "metadata": {},
   "outputs": [
    {
     "data": {
      "text/html": [
       "<div>\n",
       "<style scoped>\n",
       "    .dataframe tbody tr th:only-of-type {\n",
       "        vertical-align: middle;\n",
       "    }\n",
       "\n",
       "    .dataframe tbody tr th {\n",
       "        vertical-align: top;\n",
       "    }\n",
       "\n",
       "    .dataframe thead th {\n",
       "        text-align: right;\n",
       "    }\n",
       "</style>\n",
       "<table border=\"1\" class=\"dataframe\">\n",
       "  <thead>\n",
       "    <tr style=\"text-align: right;\">\n",
       "      <th></th>\n",
       "      <th>userId</th>\n",
       "      <th>movieId</th>\n",
       "      <th>rating</th>\n",
       "      <th>timestamp</th>\n",
       "    </tr>\n",
       "  </thead>\n",
       "  <tbody>\n",
       "    <tr>\n",
       "      <th>0</th>\n",
       "      <td>1</td>\n",
       "      <td>1</td>\n",
       "      <td>4.0</td>\n",
       "      <td>964982703</td>\n",
       "    </tr>\n",
       "    <tr>\n",
       "      <th>1</th>\n",
       "      <td>1</td>\n",
       "      <td>3</td>\n",
       "      <td>4.0</td>\n",
       "      <td>964981247</td>\n",
       "    </tr>\n",
       "    <tr>\n",
       "      <th>100834</th>\n",
       "      <td>610</td>\n",
       "      <td>168252</td>\n",
       "      <td>5.0</td>\n",
       "      <td>1493846352</td>\n",
       "    </tr>\n",
       "    <tr>\n",
       "      <th>100835</th>\n",
       "      <td>610</td>\n",
       "      <td>170875</td>\n",
       "      <td>3.0</td>\n",
       "      <td>1493846415</td>\n",
       "    </tr>\n",
       "  </tbody>\n",
       "</table>\n",
       "</div>"
      ],
      "text/plain": [
       "        userId  movieId  rating   timestamp\n",
       "0            1        1     4.0   964982703\n",
       "1            1        3     4.0   964981247\n",
       "100834     610   168252     5.0  1493846352\n",
       "100835     610   170875     3.0  1493846415"
      ]
     },
     "execution_count": 2,
     "metadata": {},
     "output_type": "execute_result"
    }
   ],
   "source": [
    "ML_ratings.head(2).append(ML_ratings.tail(2)) "
   ]
  },
  {
   "cell_type": "code",
   "execution_count": 3,
   "metadata": {},
   "outputs": [
    {
     "data": {
      "text/html": [
       "<div>\n",
       "<style scoped>\n",
       "    .dataframe tbody tr th:only-of-type {\n",
       "        vertical-align: middle;\n",
       "    }\n",
       "\n",
       "    .dataframe tbody tr th {\n",
       "        vertical-align: top;\n",
       "    }\n",
       "\n",
       "    .dataframe thead th {\n",
       "        text-align: right;\n",
       "    }\n",
       "</style>\n",
       "<table border=\"1\" class=\"dataframe\">\n",
       "  <thead>\n",
       "    <tr style=\"text-align: right;\">\n",
       "      <th></th>\n",
       "      <th>imdb_title_id</th>\n",
       "      <th>title</th>\n",
       "      <th>original_title</th>\n",
       "      <th>year</th>\n",
       "      <th>date_published</th>\n",
       "      <th>genre</th>\n",
       "      <th>duration</th>\n",
       "      <th>country</th>\n",
       "      <th>language</th>\n",
       "      <th>director</th>\n",
       "      <th>writer</th>\n",
       "      <th>production_company</th>\n",
       "      <th>actors</th>\n",
       "      <th>description</th>\n",
       "      <th>avg_vote</th>\n",
       "      <th>votes</th>\n",
       "    </tr>\n",
       "  </thead>\n",
       "  <tbody>\n",
       "    <tr>\n",
       "      <th>0</th>\n",
       "      <td>tt0000009</td>\n",
       "      <td>Miss Jerry</td>\n",
       "      <td>Miss Jerry</td>\n",
       "      <td>1894</td>\n",
       "      <td>1894-10-09</td>\n",
       "      <td>Romance</td>\n",
       "      <td>45</td>\n",
       "      <td>USA</td>\n",
       "      <td>None</td>\n",
       "      <td>Alexander Black</td>\n",
       "      <td>Alexander Black</td>\n",
       "      <td>Alexander Black Photoplays</td>\n",
       "      <td>Blanche Bayliss, William Courtenay, Chauncey D...</td>\n",
       "      <td>The adventures of a female reporter in the 1890s.</td>\n",
       "      <td>5.9</td>\n",
       "      <td>154</td>\n",
       "    </tr>\n",
       "    <tr>\n",
       "      <th>1</th>\n",
       "      <td>tt0000574</td>\n",
       "      <td>The Story of the Kelly Gang</td>\n",
       "      <td>The Story of the Kelly Gang</td>\n",
       "      <td>1906</td>\n",
       "      <td>1906-12-26</td>\n",
       "      <td>Biography, Crime, Drama</td>\n",
       "      <td>70</td>\n",
       "      <td>Australia</td>\n",
       "      <td>None</td>\n",
       "      <td>Charles Tait</td>\n",
       "      <td>Charles Tait</td>\n",
       "      <td>J. and N. Tait</td>\n",
       "      <td>Elizabeth Tait, John Tait, Norman Campbell, Be...</td>\n",
       "      <td>True story of notorious Australian outlaw Ned ...</td>\n",
       "      <td>6.1</td>\n",
       "      <td>589</td>\n",
       "    </tr>\n",
       "    <tr>\n",
       "      <th>85853</th>\n",
       "      <td>tt9914286</td>\n",
       "      <td>Sokagin Çocuklari</td>\n",
       "      <td>Sokagin Çocuklari</td>\n",
       "      <td>2019</td>\n",
       "      <td>2019-03-15</td>\n",
       "      <td>Drama, Family</td>\n",
       "      <td>98</td>\n",
       "      <td>Turkey</td>\n",
       "      <td>Turkish</td>\n",
       "      <td>Ahmet Faik Akinci</td>\n",
       "      <td>Ahmet Faik Akinci, Kasim Uçkan</td>\n",
       "      <td>Gizem Ajans</td>\n",
       "      <td>Ahmet Faik Akinci, Belma Mamati, Metin Keçeci,...</td>\n",
       "      <td>_MISSING_</td>\n",
       "      <td>6.4</td>\n",
       "      <td>194</td>\n",
       "    </tr>\n",
       "    <tr>\n",
       "      <th>85854</th>\n",
       "      <td>tt9914942</td>\n",
       "      <td>La vida sense la Sara Amat</td>\n",
       "      <td>La vida sense la Sara Amat</td>\n",
       "      <td>2019</td>\n",
       "      <td>2020-02-05</td>\n",
       "      <td>Drama</td>\n",
       "      <td>74</td>\n",
       "      <td>Spain</td>\n",
       "      <td>Catalan</td>\n",
       "      <td>Laura Jou</td>\n",
       "      <td>Coral Cruz, Pep Puig</td>\n",
       "      <td>La Xarxa de Comunicació Local</td>\n",
       "      <td>Maria Morera Colomer, Biel Rossell Pelfort, Is...</td>\n",
       "      <td>Pep, a 13-year-old boy, is in love with a girl...</td>\n",
       "      <td>6.7</td>\n",
       "      <td>102</td>\n",
       "    </tr>\n",
       "  </tbody>\n",
       "</table>\n",
       "</div>"
      ],
      "text/plain": [
       "      imdb_title_id                        title               original_title  \\\n",
       "0         tt0000009                   Miss Jerry                   Miss Jerry   \n",
       "1         tt0000574  The Story of the Kelly Gang  The Story of the Kelly Gang   \n",
       "85853     tt9914286            Sokagin Çocuklari            Sokagin Çocuklari   \n",
       "85854     tt9914942   La vida sense la Sara Amat   La vida sense la Sara Amat   \n",
       "\n",
       "       year date_published                    genre  duration    country  \\\n",
       "0      1894     1894-10-09                  Romance        45        USA   \n",
       "1      1906     1906-12-26  Biography, Crime, Drama        70  Australia   \n",
       "85853  2019     2019-03-15            Drama, Family        98     Turkey   \n",
       "85854  2019     2020-02-05                    Drama        74      Spain   \n",
       "\n",
       "      language           director                          writer  \\\n",
       "0         None    Alexander Black                 Alexander Black   \n",
       "1         None       Charles Tait                    Charles Tait   \n",
       "85853  Turkish  Ahmet Faik Akinci  Ahmet Faik Akinci, Kasim Uçkan   \n",
       "85854  Catalan          Laura Jou            Coral Cruz, Pep Puig   \n",
       "\n",
       "                  production_company  \\\n",
       "0         Alexander Black Photoplays   \n",
       "1                     J. and N. Tait   \n",
       "85853                    Gizem Ajans   \n",
       "85854  La Xarxa de Comunicació Local   \n",
       "\n",
       "                                                  actors  \\\n",
       "0      Blanche Bayliss, William Courtenay, Chauncey D...   \n",
       "1      Elizabeth Tait, John Tait, Norman Campbell, Be...   \n",
       "85853  Ahmet Faik Akinci, Belma Mamati, Metin Keçeci,...   \n",
       "85854  Maria Morera Colomer, Biel Rossell Pelfort, Is...   \n",
       "\n",
       "                                             description  avg_vote  votes  \n",
       "0      The adventures of a female reporter in the 1890s.       5.9    154  \n",
       "1      True story of notorious Australian outlaw Ned ...       6.1    589  \n",
       "85853                                          _MISSING_       6.4    194  \n",
       "85854  Pep, a 13-year-old boy, is in love with a girl...       6.7    102  "
      ]
     },
     "execution_count": 3,
     "metadata": {},
     "output_type": "execute_result"
    }
   ],
   "source": [
    "movies.head(2).append(movies.tail(2))"
   ]
  },
  {
   "cell_type": "code",
   "execution_count": 4,
   "metadata": {},
   "outputs": [
    {
     "name": "stdout",
     "output_type": "stream",
     "text": [
      "(100836, 4)\n"
     ]
    }
   ],
   "source": [
    "print(ML_ratings.shape)"
   ]
  },
  {
   "cell_type": "code",
   "execution_count": 5,
   "metadata": {},
   "outputs": [
    {
     "name": "stdout",
     "output_type": "stream",
     "text": [
      "userId         int64\n",
      "movieId        int64\n",
      "rating       float64\n",
      "timestamp      int64\n",
      "dtype: object\n"
     ]
    }
   ],
   "source": [
    "print(ML_ratings.dtypes)"
   ]
  },
  {
   "cell_type": "code",
   "execution_count": 6,
   "metadata": {},
   "outputs": [
    {
     "name": "stdout",
     "output_type": "stream",
     "text": [
      "userId       0\n",
      "movieId      0\n",
      "rating       0\n",
      "timestamp    0\n",
      "dtype: int64\n"
     ]
    }
   ],
   "source": [
    "print(ML_ratings.isnull().sum())   # check for missing values"
   ]
  },
  {
   "cell_type": "code",
   "execution_count": 7,
   "metadata": {},
   "outputs": [],
   "source": [
    "# transform the imdb_title_id to match the imdbid format in MLratings for IMDB movies dataset\n",
    "movies['imdb_title_id']=movies['imdb_title_id'].str[2:]\n",
    "movies['imdb_title_id']=movies['imdb_title_id'].apply(lambda x: x.lstrip('0'))"
   ]
  },
  {
   "cell_type": "code",
   "execution_count": 14,
   "metadata": {},
   "outputs": [
    {
     "data": {
      "text/html": [
       "<div>\n",
       "<style scoped>\n",
       "    .dataframe tbody tr th:only-of-type {\n",
       "        vertical-align: middle;\n",
       "    }\n",
       "\n",
       "    .dataframe tbody tr th {\n",
       "        vertical-align: top;\n",
       "    }\n",
       "\n",
       "    .dataframe thead th {\n",
       "        text-align: right;\n",
       "    }\n",
       "</style>\n",
       "<table border=\"1\" class=\"dataframe\">\n",
       "  <thead>\n",
       "    <tr style=\"text-align: right;\">\n",
       "      <th></th>\n",
       "      <th>imdb_title_id</th>\n",
       "      <th>title</th>\n",
       "      <th>original_title</th>\n",
       "      <th>year</th>\n",
       "      <th>date_published</th>\n",
       "      <th>genre</th>\n",
       "      <th>duration</th>\n",
       "      <th>country</th>\n",
       "      <th>language</th>\n",
       "      <th>director</th>\n",
       "      <th>writer</th>\n",
       "      <th>production_company</th>\n",
       "      <th>actors</th>\n",
       "      <th>description</th>\n",
       "      <th>avg_vote</th>\n",
       "      <th>votes</th>\n",
       "    </tr>\n",
       "  </thead>\n",
       "  <tbody>\n",
       "    <tr>\n",
       "      <th>0</th>\n",
       "      <td>9</td>\n",
       "      <td>Miss Jerry</td>\n",
       "      <td>Miss Jerry</td>\n",
       "      <td>1894</td>\n",
       "      <td>1894-10-09</td>\n",
       "      <td>Romance</td>\n",
       "      <td>45</td>\n",
       "      <td>USA</td>\n",
       "      <td>None</td>\n",
       "      <td>Alexander Black</td>\n",
       "      <td>Alexander Black</td>\n",
       "      <td>Alexander Black Photoplays</td>\n",
       "      <td>Blanche Bayliss, William Courtenay, Chauncey D...</td>\n",
       "      <td>The adventures of a female reporter in the 1890s.</td>\n",
       "      <td>5.9</td>\n",
       "      <td>154</td>\n",
       "    </tr>\n",
       "    <tr>\n",
       "      <th>1</th>\n",
       "      <td>574</td>\n",
       "      <td>The Story of the Kelly Gang</td>\n",
       "      <td>The Story of the Kelly Gang</td>\n",
       "      <td>1906</td>\n",
       "      <td>1906-12-26</td>\n",
       "      <td>Biography, Crime, Drama</td>\n",
       "      <td>70</td>\n",
       "      <td>Australia</td>\n",
       "      <td>None</td>\n",
       "      <td>Charles Tait</td>\n",
       "      <td>Charles Tait</td>\n",
       "      <td>J. and N. Tait</td>\n",
       "      <td>Elizabeth Tait, John Tait, Norman Campbell, Be...</td>\n",
       "      <td>True story of notorious Australian outlaw Ned ...</td>\n",
       "      <td>6.1</td>\n",
       "      <td>589</td>\n",
       "    </tr>\n",
       "    <tr>\n",
       "      <th>2</th>\n",
       "      <td>1892</td>\n",
       "      <td>Den sorte drøm</td>\n",
       "      <td>Den sorte drøm</td>\n",
       "      <td>1911</td>\n",
       "      <td>1911-08-19</td>\n",
       "      <td>Drama</td>\n",
       "      <td>53</td>\n",
       "      <td>Germany, Denmark</td>\n",
       "      <td>_MISSING_</td>\n",
       "      <td>Urban Gad</td>\n",
       "      <td>Urban Gad, Gebhard Schätzler-Perasini</td>\n",
       "      <td>Fotorama</td>\n",
       "      <td>Asta Nielsen, Valdemar Psilander, Gunnar Helse...</td>\n",
       "      <td>Two men of high rank are both wooing the beaut...</td>\n",
       "      <td>5.8</td>\n",
       "      <td>188</td>\n",
       "    </tr>\n",
       "    <tr>\n",
       "      <th>3</th>\n",
       "      <td>2101</td>\n",
       "      <td>Cleopatra</td>\n",
       "      <td>Cleopatra</td>\n",
       "      <td>1912</td>\n",
       "      <td>1912-11-13</td>\n",
       "      <td>Drama, History</td>\n",
       "      <td>100</td>\n",
       "      <td>USA</td>\n",
       "      <td>English</td>\n",
       "      <td>Charles L. Gaskill</td>\n",
       "      <td>Victorien Sardou</td>\n",
       "      <td>Helen Gardner Picture Players</td>\n",
       "      <td>Helen Gardner, Pearl Sindelar, Miss Fielding, ...</td>\n",
       "      <td>The fabled queen of Egypt's affair with Roman ...</td>\n",
       "      <td>5.2</td>\n",
       "      <td>446</td>\n",
       "    </tr>\n",
       "    <tr>\n",
       "      <th>4</th>\n",
       "      <td>2130</td>\n",
       "      <td>L'Inferno</td>\n",
       "      <td>L'Inferno</td>\n",
       "      <td>1911</td>\n",
       "      <td>1911-03-06</td>\n",
       "      <td>Adventure, Drama, Fantasy</td>\n",
       "      <td>68</td>\n",
       "      <td>Italy</td>\n",
       "      <td>Italian</td>\n",
       "      <td>Francesco Bertolini, Adolfo Padovan</td>\n",
       "      <td>Dante Alighieri</td>\n",
       "      <td>Milano Film</td>\n",
       "      <td>Salvatore Papa, Arturo Pirovano, Giuseppe de L...</td>\n",
       "      <td>Loosely adapted from Dante's Divine Comedy and...</td>\n",
       "      <td>7.0</td>\n",
       "      <td>2237</td>\n",
       "    </tr>\n",
       "  </tbody>\n",
       "</table>\n",
       "</div>"
      ],
      "text/plain": [
       "  imdb_title_id                        title               original_title  \\\n",
       "0             9                   Miss Jerry                   Miss Jerry   \n",
       "1           574  The Story of the Kelly Gang  The Story of the Kelly Gang   \n",
       "2          1892               Den sorte drøm               Den sorte drøm   \n",
       "3          2101                    Cleopatra                    Cleopatra   \n",
       "4          2130                    L'Inferno                    L'Inferno   \n",
       "\n",
       "   year date_published                      genre  duration           country  \\\n",
       "0  1894     1894-10-09                    Romance        45               USA   \n",
       "1  1906     1906-12-26    Biography, Crime, Drama        70         Australia   \n",
       "2  1911     1911-08-19                      Drama        53  Germany, Denmark   \n",
       "3  1912     1912-11-13             Drama, History       100               USA   \n",
       "4  1911     1911-03-06  Adventure, Drama, Fantasy        68             Italy   \n",
       "\n",
       "    language                             director  \\\n",
       "0       None                      Alexander Black   \n",
       "1       None                         Charles Tait   \n",
       "2  _MISSING_                            Urban Gad   \n",
       "3    English                   Charles L. Gaskill   \n",
       "4    Italian  Francesco Bertolini, Adolfo Padovan   \n",
       "\n",
       "                                  writer             production_company  \\\n",
       "0                        Alexander Black     Alexander Black Photoplays   \n",
       "1                           Charles Tait                 J. and N. Tait   \n",
       "2  Urban Gad, Gebhard Schätzler-Perasini                       Fotorama   \n",
       "3                       Victorien Sardou  Helen Gardner Picture Players   \n",
       "4                        Dante Alighieri                    Milano Film   \n",
       "\n",
       "                                              actors  \\\n",
       "0  Blanche Bayliss, William Courtenay, Chauncey D...   \n",
       "1  Elizabeth Tait, John Tait, Norman Campbell, Be...   \n",
       "2  Asta Nielsen, Valdemar Psilander, Gunnar Helse...   \n",
       "3  Helen Gardner, Pearl Sindelar, Miss Fielding, ...   \n",
       "4  Salvatore Papa, Arturo Pirovano, Giuseppe de L...   \n",
       "\n",
       "                                         description  avg_vote  votes  \n",
       "0  The adventures of a female reporter in the 1890s.       5.9    154  \n",
       "1  True story of notorious Australian outlaw Ned ...       6.1    589  \n",
       "2  Two men of high rank are both wooing the beaut...       5.8    188  \n",
       "3  The fabled queen of Egypt's affair with Roman ...       5.2    446  \n",
       "4  Loosely adapted from Dante's Divine Comedy and...       7.0   2237  "
      ]
     },
     "execution_count": 14,
     "metadata": {},
     "output_type": "execute_result"
    }
   ],
   "source": [
    "movies.head()"
   ]
  },
  {
   "cell_type": "code",
   "execution_count": 9,
   "metadata": {},
   "outputs": [
    {
     "data": {
      "text/plain": [
       "0        114709\n",
       "1        113497\n",
       "2        113228\n",
       "3        114885\n",
       "4        113041\n",
       "         ...   \n",
       "9737    5476944\n",
       "9738    5914996\n",
       "9739    6397426\n",
       "9740    8391976\n",
       "9741     101726\n",
       "Name: imdbId, Length: 9742, dtype: object"
      ]
     },
     "execution_count": 9,
     "metadata": {},
     "output_type": "execute_result"
    }
   ],
   "source": [
    "ML_ids = ML_links[ML_links['imdbId'].notnull()]['imdbId'].astype('str')\n",
    "ML_ids"
   ]
  },
  {
   "cell_type": "code",
   "execution_count": 10,
   "metadata": {},
   "outputs": [
    {
     "data": {
      "text/plain": [
       "(85855, 16)"
      ]
     },
     "execution_count": 10,
     "metadata": {},
     "output_type": "execute_result"
    }
   ],
   "source": [
    "movies.shape"
   ]
  },
  {
   "cell_type": "code",
   "execution_count": 11,
   "metadata": {},
   "outputs": [
    {
     "data": {
      "text/plain": [
       "(8562, 16)"
      ]
     },
     "execution_count": 11,
     "metadata": {},
     "output_type": "execute_result"
    }
   ],
   "source": [
    "movie_cleaned = movies[movies['imdb_title_id'].isin(ML_ids)]\n",
    "movie_cleaned.shape"
   ]
  },
  {
   "cell_type": "code",
   "execution_count": null,
   "metadata": {},
   "outputs": [],
   "source": [
    "# We have 8562 movies avaiable in metadata set (combined)"
   ]
  },
  {
   "cell_type": "code",
   "execution_count": null,
   "metadata": {},
   "outputs": [],
   "source": [
    "# save a local copy\n",
    "movie_cleaned.to_csv('movies_matched.csv',encoding='utf-8', index=False)"
   ]
  },
  {
   "cell_type": "code",
   "execution_count": null,
   "metadata": {},
   "outputs": [],
   "source": []
  },
  {
   "cell_type": "code",
   "execution_count": null,
   "metadata": {},
   "outputs": [],
   "source": []
  },
  {
   "cell_type": "code",
   "execution_count": null,
   "metadata": {},
   "outputs": [],
   "source": [
    "# for full dataset (not used)"
   ]
  },
  {
   "cell_type": "code",
   "execution_count": null,
   "metadata": {},
   "outputs": [],
   "source": [
    "# tag taxonomy"
   ]
  },
  {
   "cell_type": "code",
   "execution_count": 41,
   "metadata": {},
   "outputs": [
    {
     "data": {
      "text/html": [
       "<div>\n",
       "<style scoped>\n",
       "    .dataframe tbody tr th:only-of-type {\n",
       "        vertical-align: middle;\n",
       "    }\n",
       "\n",
       "    .dataframe tbody tr th {\n",
       "        vertical-align: top;\n",
       "    }\n",
       "\n",
       "    .dataframe thead th {\n",
       "        text-align: right;\n",
       "    }\n",
       "</style>\n",
       "<table border=\"1\" class=\"dataframe\">\n",
       "  <thead>\n",
       "    <tr style=\"text-align: right;\">\n",
       "      <th></th>\n",
       "      <th>tagId</th>\n",
       "      <th>tag</th>\n",
       "    </tr>\n",
       "  </thead>\n",
       "  <tbody>\n",
       "    <tr>\n",
       "      <th>0</th>\n",
       "      <td>1</td>\n",
       "      <td>007</td>\n",
       "    </tr>\n",
       "    <tr>\n",
       "      <th>1</th>\n",
       "      <td>2</td>\n",
       "      <td>007 (series)</td>\n",
       "    </tr>\n",
       "    <tr>\n",
       "      <th>1126</th>\n",
       "      <td>1127</td>\n",
       "      <td>zombie</td>\n",
       "    </tr>\n",
       "    <tr>\n",
       "      <th>1127</th>\n",
       "      <td>1128</td>\n",
       "      <td>zombies</td>\n",
       "    </tr>\n",
       "  </tbody>\n",
       "</table>\n",
       "</div>"
      ],
      "text/plain": [
       "      tagId           tag\n",
       "0         1           007\n",
       "1         2  007 (series)\n",
       "1126   1127        zombie\n",
       "1127   1128       zombies"
      ]
     },
     "execution_count": 41,
     "metadata": {},
     "output_type": "execute_result"
    }
   ],
   "source": [
    "ML_tag_id.head(2).append(ML_tag_id.tail(2)) "
   ]
  },
  {
   "cell_type": "code",
   "execution_count": 42,
   "metadata": {},
   "outputs": [
    {
     "name": "stdout",
     "output_type": "stream",
     "text": [
      "(1128, 2)\n"
     ]
    }
   ],
   "source": [
    "print(ML_tag_id.shape) # 1128 user-defined tags"
   ]
  },
  {
   "cell_type": "code",
   "execution_count": 47,
   "metadata": {},
   "outputs": [
    {
     "name": "stdout",
     "output_type": "stream",
     "text": [
      "tagId     int64\n",
      "tag      object\n",
      "dtype: object\n"
     ]
    }
   ],
   "source": [
    "print(ML_tag_id.dtypes)"
   ]
  },
  {
   "cell_type": "code",
   "execution_count": 48,
   "metadata": {},
   "outputs": [
    {
     "name": "stdout",
     "output_type": "stream",
     "text": [
      "tagId    0\n",
      "tag      0\n",
      "dtype: int64\n"
     ]
    }
   ],
   "source": [
    "print(ML_tag_id.isnull().sum())   # check for missing values"
   ]
  },
  {
   "cell_type": "code",
   "execution_count": null,
   "metadata": {},
   "outputs": [],
   "source": [
    "# can merge tad id with tagging relevance score with user tagging"
   ]
  },
  {
   "cell_type": "code",
   "execution_count": null,
   "metadata": {},
   "outputs": [],
   "source": [
    "# "
   ]
  },
  {
   "cell_type": "code",
   "execution_count": 49,
   "metadata": {},
   "outputs": [
    {
     "data": {
      "text/html": [
       "<div>\n",
       "<style scoped>\n",
       "    .dataframe tbody tr th:only-of-type {\n",
       "        vertical-align: middle;\n",
       "    }\n",
       "\n",
       "    .dataframe tbody tr th {\n",
       "        vertical-align: top;\n",
       "    }\n",
       "\n",
       "    .dataframe thead th {\n",
       "        text-align: right;\n",
       "    }\n",
       "</style>\n",
       "<table border=\"1\" class=\"dataframe\">\n",
       "  <thead>\n",
       "    <tr style=\"text-align: right;\">\n",
       "      <th></th>\n",
       "      <th>movieId</th>\n",
       "      <th>tagId</th>\n",
       "      <th>relevance</th>\n",
       "    </tr>\n",
       "  </thead>\n",
       "  <tbody>\n",
       "    <tr>\n",
       "      <th>0</th>\n",
       "      <td>1</td>\n",
       "      <td>1</td>\n",
       "      <td>0.02875</td>\n",
       "    </tr>\n",
       "    <tr>\n",
       "      <th>1</th>\n",
       "      <td>1</td>\n",
       "      <td>2</td>\n",
       "      <td>0.02375</td>\n",
       "    </tr>\n",
       "    <tr>\n",
       "      <th>15584446</th>\n",
       "      <td>206499</td>\n",
       "      <td>1127</td>\n",
       "      <td>0.14025</td>\n",
       "    </tr>\n",
       "    <tr>\n",
       "      <th>15584447</th>\n",
       "      <td>206499</td>\n",
       "      <td>1128</td>\n",
       "      <td>0.03350</td>\n",
       "    </tr>\n",
       "  </tbody>\n",
       "</table>\n",
       "</div>"
      ],
      "text/plain": [
       "          movieId  tagId  relevance\n",
       "0               1      1    0.02875\n",
       "1               1      2    0.02375\n",
       "15584446   206499   1127    0.14025\n",
       "15584447   206499   1128    0.03350"
      ]
     },
     "execution_count": 49,
     "metadata": {},
     "output_type": "execute_result"
    }
   ],
   "source": [
    "ML_tag_score.head(2).append(ML_tag_score.tail(2)) "
   ]
  },
  {
   "cell_type": "code",
   "execution_count": 50,
   "metadata": {},
   "outputs": [
    {
     "name": "stdout",
     "output_type": "stream",
     "text": [
      "(15584448, 3)\n"
     ]
    }
   ],
   "source": [
    "print(ML_tag_score.shape) # movies tagging information"
   ]
  },
  {
   "cell_type": "code",
   "execution_count": 51,
   "metadata": {},
   "outputs": [
    {
     "name": "stdout",
     "output_type": "stream",
     "text": [
      "movieId        int64\n",
      "tagId          int64\n",
      "relevance    float64\n",
      "dtype: object\n"
     ]
    }
   ],
   "source": [
    "print(ML_tag_score.dtypes)"
   ]
  },
  {
   "cell_type": "code",
   "execution_count": 53,
   "metadata": {},
   "outputs": [
    {
     "name": "stdout",
     "output_type": "stream",
     "text": [
      "movieId      0\n",
      "tagId        0\n",
      "relevance    0\n",
      "dtype: int64\n"
     ]
    }
   ],
   "source": [
    "print(ML_tag_score.isnull().sum())   # check for missing values"
   ]
  },
  {
   "cell_type": "code",
   "execution_count": 55,
   "metadata": {},
   "outputs": [
    {
     "data": {
      "text/plain": [
       "False"
      ]
     },
     "execution_count": 55,
     "metadata": {},
     "output_type": "execute_result"
    }
   ],
   "source": [
    "ML_tag_score['tagId'].is_unique"
   ]
  },
  {
   "cell_type": "code",
   "execution_count": null,
   "metadata": {},
   "outputs": [],
   "source": []
  }
 ],
 "metadata": {
  "kernelspec": {
   "display_name": "Python 3",
   "language": "python",
   "name": "python3"
  },
  "language_info": {
   "codemirror_mode": {
    "name": "ipython",
    "version": 3
   },
   "file_extension": ".py",
   "mimetype": "text/x-python",
   "name": "python",
   "nbconvert_exporter": "python",
   "pygments_lexer": "ipython3",
   "version": "3.7.4"
  }
 },
 "nbformat": 4,
 "nbformat_minor": 2
}
